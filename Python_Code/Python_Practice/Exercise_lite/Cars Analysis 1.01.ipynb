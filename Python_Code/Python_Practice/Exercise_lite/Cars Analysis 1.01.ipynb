{
 "cells": [
  {
   "cell_type": "markdown",
   "metadata": {},
   "source": [
    "<p style=\"font-family: Arial; font-size:3.75em;color:purple; font-style:bold\"><br>\n",
    "Introduction to Seaborn</p><br>\n",
    "\n",
    "**_Seaborn_** is a library for making statistical graphics in Python. It is built on top of matplotlib and closely integrated with pandas data structures.\n",
    "\n",
    "Here is some of the functionality that seaborn offers:\n",
    "\n",
    "> * A dataset-oriented API for examining relationships between multiple variables\n",
    "* Specialized support for using categorical variables to show observations or aggregate statistics\n",
    "* Options for visualizing univariate or bivariate distributions and for comparing them between subsets of data\n",
    "* Automatic estimation and plotting of linear regression models for different kinds dependent variables\n",
    "* Convenient views onto the overall structure of complex datasets\n",
    "* High-level abstractions for structuring multi-plot grids that let you easily build complex visualizations\n",
    "* Concise control over matplotlib figure styling with several built-in themes\n",
    "* Tools for choosing color palettes that faithfully reveal patterns in your data\n",
    "\n",
    "Seaborn aims to make visualization a central part of exploring and understanding data. Its dataset-oriented plotting functions operate on dataframes and arrays containing whole datasets and internally perform the necessary semantic mapping and statistical aggregation to produce informative plots.\n",
    "\n",
    "**Additional Recommended Resources:**\n",
    "* `seaborn` Documentation: https://seaborn.pydata.org/introduction.html"
   ]
  },
  {
   "cell_type": "code",
   "execution_count": null,
   "metadata": {},
   "outputs": [],
   "source": [
    "import warnings\n",
    "warnings.filterwarnings('ignore')"
   ]
  },
  {
   "cell_type": "code",
   "execution_count": 2,
   "metadata": {},
   "outputs": [],
   "source": [
    "import pandas as pd\n",
    "import numpy as np\n",
    "import matplotlib.pyplot as plt\n",
    "import seaborn as sn\n",
    "\n",
    "%matplotlib inline"
   ]
  },
  {
   "cell_type": "code",
   "execution_count": 3,
   "metadata": {},
   "outputs": [],
   "source": [
    "from IPython.core.interactiveshell import InteractiveShell\n",
    "InteractiveShell.ast_node_interactivity = \"all\""
   ]
  },
  {
   "cell_type": "markdown",
   "metadata": {},
   "source": [
    "## Case : Cars Data\n",
    "\n",
    "This dataset is a slightly modified version of the dataset provided in the StatLib library. In line with the use by Ross Quinlan (1993) in predicting the attribute \"mpg\", 8 of the original instances were removed because they had unknown values for the \"mpg\" attribute. The original dataset is available in the file \"auto-mpg.data-original\". \n",
    "\n",
    "\"The data concerns city-cycle fuel consumption in miles per gallon, to be predicted in terms of 3 multivalued discrete and 5 continuous attributes.\" (Quinlan, 1993)\n",
    "\n",
    "\n",
    "Attribute Information:\n",
    "\n",
    "1. mpg: continuous \n",
    "2. cylinders: multi-valued discrete \n",
    "3. displacement: continuous \n",
    "4. horsepower: continuous \n",
    "5. weight: continuous \n",
    "6. acceleration: continuous \n",
    "7. model year: multi-valued discrete \n",
    "8. origin: multi-valued discrete (1: American, 2: European 3: Japanese)\n",
    "9. car name: string (unique for each instance)\n",
    "\n",
    "More info: https://archive.ics.uci.edu/ml/datasets/Auto+MPG"
   ]
  },
  {
   "cell_type": "markdown",
   "metadata": {},
   "source": [
    "## Read the data\n",
    "\n",
    "Read the data from the url source (fixed-width formatted lines)"
   ]
  },
  {
   "cell_type": "code",
   "execution_count": 4,
   "metadata": {
    "scrolled": true
   },
   "outputs": [
    {
     "data": {
      "text/html": [
       "<div>\n",
       "<style scoped>\n",
       "    .dataframe tbody tr th:only-of-type {\n",
       "        vertical-align: middle;\n",
       "    }\n",
       "\n",
       "    .dataframe tbody tr th {\n",
       "        vertical-align: top;\n",
       "    }\n",
       "\n",
       "    .dataframe thead th {\n",
       "        text-align: right;\n",
       "    }\n",
       "</style>\n",
       "<table border=\"1\" class=\"dataframe\">\n",
       "  <thead>\n",
       "    <tr style=\"text-align: right;\">\n",
       "      <th></th>\n",
       "      <th>mpg</th>\n",
       "      <th>cylinders</th>\n",
       "      <th>displacement</th>\n",
       "      <th>horsepower</th>\n",
       "      <th>weight</th>\n",
       "      <th>acceleration</th>\n",
       "      <th>model_year</th>\n",
       "      <th>origin</th>\n",
       "    </tr>\n",
       "    <tr>\n",
       "      <th>car_name</th>\n",
       "      <th></th>\n",
       "      <th></th>\n",
       "      <th></th>\n",
       "      <th></th>\n",
       "      <th></th>\n",
       "      <th></th>\n",
       "      <th></th>\n",
       "      <th></th>\n",
       "    </tr>\n",
       "  </thead>\n",
       "  <tbody>\n",
       "    <tr>\n",
       "      <th>chevrolet chevelle malibu</th>\n",
       "      <td>18.0</td>\n",
       "      <td>8</td>\n",
       "      <td>307.0</td>\n",
       "      <td>130.0</td>\n",
       "      <td>3504.0</td>\n",
       "      <td>12.0</td>\n",
       "      <td>70</td>\n",
       "      <td>1</td>\n",
       "    </tr>\n",
       "    <tr>\n",
       "      <th>buick skylark 320</th>\n",
       "      <td>15.0</td>\n",
       "      <td>8</td>\n",
       "      <td>350.0</td>\n",
       "      <td>165.0</td>\n",
       "      <td>3693.0</td>\n",
       "      <td>11.5</td>\n",
       "      <td>70</td>\n",
       "      <td>1</td>\n",
       "    </tr>\n",
       "    <tr>\n",
       "      <th>plymouth satellite</th>\n",
       "      <td>18.0</td>\n",
       "      <td>8</td>\n",
       "      <td>318.0</td>\n",
       "      <td>150.0</td>\n",
       "      <td>3436.0</td>\n",
       "      <td>11.0</td>\n",
       "      <td>70</td>\n",
       "      <td>1</td>\n",
       "    </tr>\n",
       "    <tr>\n",
       "      <th>amc rebel sst</th>\n",
       "      <td>16.0</td>\n",
       "      <td>8</td>\n",
       "      <td>304.0</td>\n",
       "      <td>150.0</td>\n",
       "      <td>3433.0</td>\n",
       "      <td>12.0</td>\n",
       "      <td>70</td>\n",
       "      <td>1</td>\n",
       "    </tr>\n",
       "    <tr>\n",
       "      <th>ford torino</th>\n",
       "      <td>17.0</td>\n",
       "      <td>8</td>\n",
       "      <td>302.0</td>\n",
       "      <td>140.0</td>\n",
       "      <td>3449.0</td>\n",
       "      <td>10.5</td>\n",
       "      <td>70</td>\n",
       "      <td>1</td>\n",
       "    </tr>\n",
       "  </tbody>\n",
       "</table>\n",
       "</div>"
      ],
      "text/plain": [
       "                            mpg  cylinders  displacement  horsepower  weight  \\\n",
       "car_name                                                                       \n",
       "chevrolet chevelle malibu  18.0          8         307.0       130.0  3504.0   \n",
       "buick skylark 320          15.0          8         350.0       165.0  3693.0   \n",
       "plymouth satellite         18.0          8         318.0       150.0  3436.0   \n",
       "amc rebel sst              16.0          8         304.0       150.0  3433.0   \n",
       "ford torino                17.0          8         302.0       140.0  3449.0   \n",
       "\n",
       "                           acceleration  model_year  origin  \n",
       "car_name                                                     \n",
       "chevrolet chevelle malibu          12.0          70       1  \n",
       "buick skylark 320                  11.5          70       1  \n",
       "plymouth satellite                 11.0          70       1  \n",
       "amc rebel sst                      12.0          70       1  \n",
       "ford torino                        10.5          70       1  "
      ]
     },
     "execution_count": 4,
     "metadata": {},
     "output_type": "execute_result"
    }
   ],
   "source": [
    "autos_df = pd.read_csv('./data/autos_df.csv',\n",
    "                       index_col=['car_name'])\n",
    "autos_df.head()"
   ]
  },
  {
   "cell_type": "code",
   "execution_count": 5,
   "metadata": {},
   "outputs": [
    {
     "name": "stdout",
     "output_type": "stream",
     "text": [
      "<class 'pandas.core.frame.DataFrame'>\n",
      "Index: 398 entries, chevrolet chevelle malibu to chevy s-10\n",
      "Data columns (total 8 columns):\n",
      "mpg             398 non-null float64\n",
      "cylinders       398 non-null int64\n",
      "displacement    398 non-null float64\n",
      "horsepower      392 non-null float64\n",
      "weight          398 non-null float64\n",
      "acceleration    398 non-null float64\n",
      "model_year      398 non-null int64\n",
      "origin          398 non-null int64\n",
      "dtypes: float64(5), int64(3)\n",
      "memory usage: 28.0+ KB\n"
     ]
    }
   ],
   "source": [
    "autos_df.info()"
   ]
  },
  {
   "cell_type": "markdown",
   "metadata": {},
   "source": [
    "## Describe the features\n",
    "\n",
    "Get the mean, median, mode etc"
   ]
  },
  {
   "cell_type": "code",
   "execution_count": 6,
   "metadata": {},
   "outputs": [
    {
     "data": {
      "text/html": [
       "<div>\n",
       "<style scoped>\n",
       "    .dataframe tbody tr th:only-of-type {\n",
       "        vertical-align: middle;\n",
       "    }\n",
       "\n",
       "    .dataframe tbody tr th {\n",
       "        vertical-align: top;\n",
       "    }\n",
       "\n",
       "    .dataframe thead th {\n",
       "        text-align: right;\n",
       "    }\n",
       "</style>\n",
       "<table border=\"1\" class=\"dataframe\">\n",
       "  <thead>\n",
       "    <tr style=\"text-align: right;\">\n",
       "      <th></th>\n",
       "      <th>mpg</th>\n",
       "      <th>cylinders</th>\n",
       "      <th>displacement</th>\n",
       "      <th>horsepower</th>\n",
       "      <th>weight</th>\n",
       "      <th>acceleration</th>\n",
       "      <th>model_year</th>\n",
       "      <th>origin</th>\n",
       "    </tr>\n",
       "  </thead>\n",
       "  <tbody>\n",
       "    <tr>\n",
       "      <th>count</th>\n",
       "      <td>398.000000</td>\n",
       "      <td>398.000000</td>\n",
       "      <td>398.000000</td>\n",
       "      <td>392.000000</td>\n",
       "      <td>398.000000</td>\n",
       "      <td>398.000000</td>\n",
       "      <td>398.000000</td>\n",
       "      <td>398.000000</td>\n",
       "    </tr>\n",
       "    <tr>\n",
       "      <th>mean</th>\n",
       "      <td>23.514573</td>\n",
       "      <td>5.454774</td>\n",
       "      <td>193.425879</td>\n",
       "      <td>104.469388</td>\n",
       "      <td>2970.424623</td>\n",
       "      <td>15.568090</td>\n",
       "      <td>76.010050</td>\n",
       "      <td>1.572864</td>\n",
       "    </tr>\n",
       "    <tr>\n",
       "      <th>std</th>\n",
       "      <td>7.815984</td>\n",
       "      <td>1.701004</td>\n",
       "      <td>104.269838</td>\n",
       "      <td>38.491160</td>\n",
       "      <td>846.841774</td>\n",
       "      <td>2.757689</td>\n",
       "      <td>3.697627</td>\n",
       "      <td>0.802055</td>\n",
       "    </tr>\n",
       "    <tr>\n",
       "      <th>min</th>\n",
       "      <td>9.000000</td>\n",
       "      <td>3.000000</td>\n",
       "      <td>68.000000</td>\n",
       "      <td>46.000000</td>\n",
       "      <td>1613.000000</td>\n",
       "      <td>8.000000</td>\n",
       "      <td>70.000000</td>\n",
       "      <td>1.000000</td>\n",
       "    </tr>\n",
       "    <tr>\n",
       "      <th>25%</th>\n",
       "      <td>17.500000</td>\n",
       "      <td>4.000000</td>\n",
       "      <td>104.250000</td>\n",
       "      <td>75.000000</td>\n",
       "      <td>2223.750000</td>\n",
       "      <td>13.825000</td>\n",
       "      <td>73.000000</td>\n",
       "      <td>1.000000</td>\n",
       "    </tr>\n",
       "    <tr>\n",
       "      <th>50%</th>\n",
       "      <td>23.000000</td>\n",
       "      <td>4.000000</td>\n",
       "      <td>148.500000</td>\n",
       "      <td>93.500000</td>\n",
       "      <td>2803.500000</td>\n",
       "      <td>15.500000</td>\n",
       "      <td>76.000000</td>\n",
       "      <td>1.000000</td>\n",
       "    </tr>\n",
       "    <tr>\n",
       "      <th>75%</th>\n",
       "      <td>29.000000</td>\n",
       "      <td>8.000000</td>\n",
       "      <td>262.000000</td>\n",
       "      <td>126.000000</td>\n",
       "      <td>3608.000000</td>\n",
       "      <td>17.175000</td>\n",
       "      <td>79.000000</td>\n",
       "      <td>2.000000</td>\n",
       "    </tr>\n",
       "    <tr>\n",
       "      <th>max</th>\n",
       "      <td>46.600000</td>\n",
       "      <td>8.000000</td>\n",
       "      <td>455.000000</td>\n",
       "      <td>230.000000</td>\n",
       "      <td>5140.000000</td>\n",
       "      <td>24.800000</td>\n",
       "      <td>82.000000</td>\n",
       "      <td>3.000000</td>\n",
       "    </tr>\n",
       "  </tbody>\n",
       "</table>\n",
       "</div>"
      ],
      "text/plain": [
       "              mpg   cylinders  displacement  horsepower       weight  \\\n",
       "count  398.000000  398.000000    398.000000  392.000000   398.000000   \n",
       "mean    23.514573    5.454774    193.425879  104.469388  2970.424623   \n",
       "std      7.815984    1.701004    104.269838   38.491160   846.841774   \n",
       "min      9.000000    3.000000     68.000000   46.000000  1613.000000   \n",
       "25%     17.500000    4.000000    104.250000   75.000000  2223.750000   \n",
       "50%     23.000000    4.000000    148.500000   93.500000  2803.500000   \n",
       "75%     29.000000    8.000000    262.000000  126.000000  3608.000000   \n",
       "max     46.600000    8.000000    455.000000  230.000000  5140.000000   \n",
       "\n",
       "       acceleration  model_year      origin  \n",
       "count    398.000000  398.000000  398.000000  \n",
       "mean      15.568090   76.010050    1.572864  \n",
       "std        2.757689    3.697627    0.802055  \n",
       "min        8.000000   70.000000    1.000000  \n",
       "25%       13.825000   73.000000    1.000000  \n",
       "50%       15.500000   76.000000    1.000000  \n",
       "75%       17.175000   79.000000    2.000000  \n",
       "max       24.800000   82.000000    3.000000  "
      ]
     },
     "execution_count": 6,
     "metadata": {},
     "output_type": "execute_result"
    }
   ],
   "source": [
    "autos_df.describe()"
   ]
  },
  {
   "cell_type": "markdown",
   "metadata": {},
   "source": [
    "> horsepower seems to have missing values"
   ]
  },
  {
   "cell_type": "code",
   "execution_count": 7,
   "metadata": {},
   "outputs": [
    {
     "data": {
      "text/plain": [
       "True"
      ]
     },
     "execution_count": 7,
     "metadata": {},
     "output_type": "execute_result"
    },
    {
     "data": {
      "text/html": [
       "<div>\n",
       "<style scoped>\n",
       "    .dataframe tbody tr th:only-of-type {\n",
       "        vertical-align: middle;\n",
       "    }\n",
       "\n",
       "    .dataframe tbody tr th {\n",
       "        vertical-align: top;\n",
       "    }\n",
       "\n",
       "    .dataframe thead th {\n",
       "        text-align: right;\n",
       "    }\n",
       "</style>\n",
       "<table border=\"1\" class=\"dataframe\">\n",
       "  <thead>\n",
       "    <tr style=\"text-align: right;\">\n",
       "      <th></th>\n",
       "      <th>mpg</th>\n",
       "      <th>cylinders</th>\n",
       "      <th>displacement</th>\n",
       "      <th>horsepower</th>\n",
       "      <th>weight</th>\n",
       "      <th>acceleration</th>\n",
       "      <th>model_year</th>\n",
       "      <th>origin</th>\n",
       "    </tr>\n",
       "    <tr>\n",
       "      <th>car_name</th>\n",
       "      <th></th>\n",
       "      <th></th>\n",
       "      <th></th>\n",
       "      <th></th>\n",
       "      <th></th>\n",
       "      <th></th>\n",
       "      <th></th>\n",
       "      <th></th>\n",
       "    </tr>\n",
       "  </thead>\n",
       "  <tbody>\n",
       "    <tr>\n",
       "      <th>ford pinto</th>\n",
       "      <td>25.0</td>\n",
       "      <td>4</td>\n",
       "      <td>98.0</td>\n",
       "      <td>NaN</td>\n",
       "      <td>2046.0</td>\n",
       "      <td>19.0</td>\n",
       "      <td>71</td>\n",
       "      <td>1</td>\n",
       "    </tr>\n",
       "    <tr>\n",
       "      <th>ford maverick</th>\n",
       "      <td>21.0</td>\n",
       "      <td>6</td>\n",
       "      <td>200.0</td>\n",
       "      <td>NaN</td>\n",
       "      <td>2875.0</td>\n",
       "      <td>17.0</td>\n",
       "      <td>74</td>\n",
       "      <td>1</td>\n",
       "    </tr>\n",
       "    <tr>\n",
       "      <th>renault lecar deluxe</th>\n",
       "      <td>40.9</td>\n",
       "      <td>4</td>\n",
       "      <td>85.0</td>\n",
       "      <td>NaN</td>\n",
       "      <td>1835.0</td>\n",
       "      <td>17.3</td>\n",
       "      <td>80</td>\n",
       "      <td>2</td>\n",
       "    </tr>\n",
       "    <tr>\n",
       "      <th>ford mustang cobra</th>\n",
       "      <td>23.6</td>\n",
       "      <td>4</td>\n",
       "      <td>140.0</td>\n",
       "      <td>NaN</td>\n",
       "      <td>2905.0</td>\n",
       "      <td>14.3</td>\n",
       "      <td>80</td>\n",
       "      <td>1</td>\n",
       "    </tr>\n",
       "    <tr>\n",
       "      <th>renault 18i</th>\n",
       "      <td>34.5</td>\n",
       "      <td>4</td>\n",
       "      <td>100.0</td>\n",
       "      <td>NaN</td>\n",
       "      <td>2320.0</td>\n",
       "      <td>15.8</td>\n",
       "      <td>81</td>\n",
       "      <td>2</td>\n",
       "    </tr>\n",
       "    <tr>\n",
       "      <th>amc concord dl</th>\n",
       "      <td>23.0</td>\n",
       "      <td>4</td>\n",
       "      <td>151.0</td>\n",
       "      <td>NaN</td>\n",
       "      <td>3035.0</td>\n",
       "      <td>20.5</td>\n",
       "      <td>82</td>\n",
       "      <td>1</td>\n",
       "    </tr>\n",
       "  </tbody>\n",
       "</table>\n",
       "</div>"
      ],
      "text/plain": [
       "                       mpg  cylinders  displacement  horsepower  weight  \\\n",
       "car_name                                                                  \n",
       "ford pinto            25.0          4          98.0         NaN  2046.0   \n",
       "ford maverick         21.0          6         200.0         NaN  2875.0   \n",
       "renault lecar deluxe  40.9          4          85.0         NaN  1835.0   \n",
       "ford mustang cobra    23.6          4         140.0         NaN  2905.0   \n",
       "renault 18i           34.5          4         100.0         NaN  2320.0   \n",
       "amc concord dl        23.0          4         151.0         NaN  3035.0   \n",
       "\n",
       "                      acceleration  model_year  origin  \n",
       "car_name                                                \n",
       "ford pinto                    19.0          71       1  \n",
       "ford maverick                 17.0          74       1  \n",
       "renault lecar deluxe          17.3          80       2  \n",
       "ford mustang cobra            14.3          80       1  \n",
       "renault 18i                   15.8          81       2  \n",
       "amc concord dl                20.5          82       1  "
      ]
     },
     "execution_count": 7,
     "metadata": {},
     "output_type": "execute_result"
    }
   ],
   "source": [
    "autos_df[\"horsepower\"].isnull().values.any()\n",
    "autos_df[autos_df.horsepower.isnull()]"
   ]
  },
  {
   "cell_type": "code",
   "execution_count": 8,
   "metadata": {},
   "outputs": [],
   "source": [
    "autos_df = autos_df.dropna()"
   ]
  },
  {
   "cell_type": "markdown",
   "metadata": {},
   "source": [
    "Position (L) = (K/100)*100\n",
    "\n",
    "where K is the percentile."
   ]
  },
  {
   "cell_type": "code",
   "execution_count": 9,
   "metadata": {},
   "outputs": [
    {
     "data": {
      "text/html": [
       "<div>\n",
       "<style scoped>\n",
       "    .dataframe tbody tr th:only-of-type {\n",
       "        vertical-align: middle;\n",
       "    }\n",
       "\n",
       "    .dataframe tbody tr th {\n",
       "        vertical-align: top;\n",
       "    }\n",
       "\n",
       "    .dataframe thead th {\n",
       "        text-align: right;\n",
       "    }\n",
       "</style>\n",
       "<table border=\"1\" class=\"dataframe\">\n",
       "  <thead>\n",
       "    <tr style=\"text-align: right;\">\n",
       "      <th></th>\n",
       "      <th>mpg</th>\n",
       "      <th>displacement</th>\n",
       "      <th>horsepower</th>\n",
       "      <th>weight</th>\n",
       "      <th>acceleration</th>\n",
       "    </tr>\n",
       "  </thead>\n",
       "  <tbody>\n",
       "    <tr>\n",
       "      <th>count</th>\n",
       "      <td>392.000000</td>\n",
       "      <td>392.000000</td>\n",
       "      <td>392.000000</td>\n",
       "      <td>392.000000</td>\n",
       "      <td>392.000000</td>\n",
       "    </tr>\n",
       "    <tr>\n",
       "      <th>mean</th>\n",
       "      <td>23.445918</td>\n",
       "      <td>194.411990</td>\n",
       "      <td>104.469388</td>\n",
       "      <td>2977.584184</td>\n",
       "      <td>15.541327</td>\n",
       "    </tr>\n",
       "    <tr>\n",
       "      <th>std</th>\n",
       "      <td>7.805007</td>\n",
       "      <td>104.644004</td>\n",
       "      <td>38.491160</td>\n",
       "      <td>849.402560</td>\n",
       "      <td>2.758864</td>\n",
       "    </tr>\n",
       "    <tr>\n",
       "      <th>min</th>\n",
       "      <td>9.000000</td>\n",
       "      <td>68.000000</td>\n",
       "      <td>46.000000</td>\n",
       "      <td>1613.000000</td>\n",
       "      <td>8.000000</td>\n",
       "    </tr>\n",
       "    <tr>\n",
       "      <th>25%</th>\n",
       "      <td>17.000000</td>\n",
       "      <td>105.000000</td>\n",
       "      <td>75.000000</td>\n",
       "      <td>2225.250000</td>\n",
       "      <td>13.775000</td>\n",
       "    </tr>\n",
       "    <tr>\n",
       "      <th>50%</th>\n",
       "      <td>22.750000</td>\n",
       "      <td>151.000000</td>\n",
       "      <td>93.500000</td>\n",
       "      <td>2803.500000</td>\n",
       "      <td>15.500000</td>\n",
       "    </tr>\n",
       "    <tr>\n",
       "      <th>75%</th>\n",
       "      <td>29.000000</td>\n",
       "      <td>275.750000</td>\n",
       "      <td>126.000000</td>\n",
       "      <td>3614.750000</td>\n",
       "      <td>17.025000</td>\n",
       "    </tr>\n",
       "    <tr>\n",
       "      <th>max</th>\n",
       "      <td>46.600000</td>\n",
       "      <td>455.000000</td>\n",
       "      <td>230.000000</td>\n",
       "      <td>5140.000000</td>\n",
       "      <td>24.800000</td>\n",
       "    </tr>\n",
       "  </tbody>\n",
       "</table>\n",
       "</div>"
      ],
      "text/plain": [
       "              mpg  displacement  horsepower       weight  acceleration\n",
       "count  392.000000    392.000000  392.000000   392.000000    392.000000\n",
       "mean    23.445918    194.411990  104.469388  2977.584184     15.541327\n",
       "std      7.805007    104.644004   38.491160   849.402560      2.758864\n",
       "min      9.000000     68.000000   46.000000  1613.000000      8.000000\n",
       "25%     17.000000    105.000000   75.000000  2225.250000     13.775000\n",
       "50%     22.750000    151.000000   93.500000  2803.500000     15.500000\n",
       "75%     29.000000    275.750000  126.000000  3614.750000     17.025000\n",
       "max     46.600000    455.000000  230.000000  5140.000000     24.800000"
      ]
     },
     "execution_count": 9,
     "metadata": {},
     "output_type": "execute_result"
    }
   ],
   "source": [
    "autos_df[[\"mpg\", \"displacement\",\"horsepower\",\"weight\",\"acceleration\"]].describe()"
   ]
  },
  {
   "cell_type": "markdown",
   "metadata": {},
   "source": [
    "> What is the average miles per gallon for car with different origin"
   ]
  },
  {
   "cell_type": "code",
   "execution_count": 10,
   "metadata": {},
   "outputs": [
    {
     "data": {
      "text/plain": [
       "origin\n",
       "1    20.033469\n",
       "2    27.602941\n",
       "3    30.450633\n",
       "Name: mpg, dtype: float64"
      ]
     },
     "execution_count": 10,
     "metadata": {},
     "output_type": "execute_result"
    }
   ],
   "source": [
    "autos_df.groupby('origin')['mpg'].mean()"
   ]
  },
  {
   "cell_type": "markdown",
   "metadata": {},
   "source": [
    "## Plot\n",
    "\n",
    "Using seaborn for different plots. Note that seaborn is built upon matplotlib. Some of the paramters passed inside the seaborn package is inherited from matplotlib\n",
    "\n",
    "`%matplotlib inline` is a directive to the ipython notebook to render the plots here."
   ]
  },
  {
   "cell_type": "markdown",
   "metadata": {},
   "source": [
    "### Distribution Plot\n",
    "\n",
    "#### Histogram plot\n",
    "\n",
    "Histogram is a tool to visualize one dimensional data which is continous in nature. Given a collection of single random variables:\n",
    "\n",
    "> * Choose a interval (bins in which the entire dataset can be bucketed)\n",
    "* Count the data points within each bin (the y axis represents the frequency count)\n",
    "\n",
    "seaborn package has `distplot` function\n",
    "\n",
    "> Analyse the impact by changing the `kde` and `hist` parameter of the `distplot` function. The parameter `rug` makes a small vertical tick at each of the observation."
   ]
  },
  {
   "cell_type": "markdown",
   "metadata": {},
   "source": [
    "> Plot the distribution of miles per gallon for cars with American origin and Japanese origin"
   ]
  },
  {
   "cell_type": "code",
   "execution_count": 11,
   "metadata": {},
   "outputs": [
    {
     "data": {
      "text/plain": [
       "<matplotlib.axes._subplots.AxesSubplot at 0x1a17689828>"
      ]
     },
     "execution_count": 11,
     "metadata": {},
     "output_type": "execute_result"
    },
    {
     "data": {
      "text/plain": [
       "<matplotlib.legend.Legend at 0x1a176faf98>"
      ]
     },
     "execution_count": 11,
     "metadata": {},
     "output_type": "execute_result"
    },
    {
     "data": {
      "image/png": "[encoded data removed]",
      "text/plain": [
       "<Figure size 432x288 with 1 Axes>"
      ]
     },
     "metadata": {
      "needs_background": "light"
     },
     "output_type": "display_data"
    }
   ],
   "source": [
    "sn.distplot(autos_df[autos_df.origin == 1]['mpg'], label = 'American')\n",
    "plt.legend()"
   ]
  },
  {
   "cell_type": "code",
   "execution_count": null,
   "metadata": {},
   "outputs": [],
   "source": [
    "sn.distplot(autos_df[autos_df.origin == 3]['mpg'],label = 'Japenese',hist=False)\n",
    "plt.legend()"
   ]
  },
  {
   "cell_type": "code",
   "execution_count": 12,
   "metadata": {},
   "outputs": [
    {
     "data": {
      "text/plain": [
       "<matplotlib.axes._subplots.AxesSubplot at 0x1a1780ba90>"
      ]
     },
     "execution_count": 12,
     "metadata": {},
     "output_type": "execute_result"
    },
    {
     "data": {
      "text/plain": [
       "<matplotlib.axes._subplots.AxesSubplot at 0x1a1780ba90>"
      ]
     },
     "execution_count": 12,
     "metadata": {},
     "output_type": "execute_result"
    },
    {
     "data": {
      "text/plain": [
       "<matplotlib.axes._subplots.AxesSubplot at 0x1a1780ba90>"
      ]
     },
     "execution_count": 12,
     "metadata": {},
     "output_type": "execute_result"
    },
    {
     "data": {
      "text/plain": [
       "<matplotlib.legend.Legend at 0x1a1787ff28>"
      ]
     },
     "execution_count": 12,
     "metadata": {},
     "output_type": "execute_result"
    },
    {
     "data": {
      "image/png": "[encoded data removed]",
      "text/plain": [
       "<Figure size 432x288 with 1 Axes>"
      ]
     },
     "metadata": {
      "needs_background": "light"
     },
     "output_type": "display_data"
    }
   ],
   "source": [
    "sn.distplot(autos_df[autos_df.origin == 1]['mpg'],label = 'American', hist=True)\n",
    "sn.distplot(autos_df[autos_df.origin == 2]['mpg'], label = 'European',hist = True)\n",
    "sn.distplot(autos_df[autos_df.origin == 3]['mpg'], label = 'Japenese',hist = True)\n",
    "plt.legend()"
   ]
  },
  {
   "cell_type": "code",
   "execution_count": null,
   "metadata": {},
   "outputs": [],
   "source": [
    "sn.distplot(autos_df['mpg'],hist = False)"
   ]
  },
  {
   "cell_type": "markdown",
   "metadata": {},
   "source": [
    "#### Exercise\n",
    "\n",
    "> Plot the distribution of horsepower for cars with American origin and Japanese origin"
   ]
  },
  {
   "cell_type": "code",
   "execution_count": null,
   "metadata": {
    "scrolled": true
   },
   "outputs": [],
   "source": []
  },
  {
   "cell_type": "markdown",
   "metadata": {},
   "source": [
    "#### Kde Plot\n",
    "\n",
    "Kernel density estimation(KDE) plot — plots a smooth curve shape of the distribution. It is a nonparametric estimation of density where inferences about the population is made from the finite data sample.\n",
    "\n",
    "`Parametric Data/Test`: When the data is assumed to have been drawn from a particular distribution and some parametric test can be applied to it\n",
    "\n",
    "`Non-Parametric Data/Test`: When we have no knowledge about the population and the underlying distribution\n",
    "\n",
    "**What is a Kernal?**\n",
    "\n",
    "Kernal: A kernel is a special type of probability density function (PDF) with the added property that it must be even.  Thus, a kernel is a function with the following properties\n",
    "\n",
    "> * non-negative\n",
    "* real-valued\n",
    "* even\n",
    "* its definite integral over its support set must equal to 1\n",
    "\n",
    "Some common PDFs are kernels; they include the **Uniform(-1,1)** and **standard normal distributions**.\n",
    "\n",
    "\n",
    "**What is Kernal density estimation?**\n",
    "\n",
    "**`Kernel density estimation`** is a non-parametric method of estimating the probability density function (PDF) of a continuous random variable.  It is non-parametric because it does not assume any underlying distribution for the variable.  Essentially, at every datum, a kernel function is created with the datum at its centre – this ensures that the kernel is symmetric about the datum.  The PDF is then estimated by adding all of these kernel functions and dividing by the number of data to ensure that it satisfies the 2 properties of a PDF:\n",
    "\n",
    "> * Every possible value of the PDF (i.e. the function, f(x)), is non-negative.\n",
    "* The definite integral of the PDF over its support set equals to 1.\n",
    "\n",
    "Steps in estimating kernal density:\n",
    "\n",
    "> * Each observation is first replaced with a normal (Gaussian) curve centered at that value.\n",
    "> * These curves are summed to compute the value of the density at each point in the support grid. The resulting curve is then normalized so that the area under it is equal to 1\n",
    "\n",
    "More about KDE at: \n",
    "> * https://chemicalstatistician.wordpress.com/2013/06/09/exploratory-data-analysis-kernel-density-estimation-in-r-on-ozone-pollution-data-in-new-york-and-ozonopolis/\n",
    "> * https://seaborn.pydata.org/tutorial/distributions.html\n",
    "\n"
   ]
  },
  {
   "cell_type": "markdown",
   "metadata": {},
   "source": [
    "> Comparing mpg distributions of cars by different origins"
   ]
  },
  {
   "cell_type": "code",
   "execution_count": null,
   "metadata": {},
   "outputs": [],
   "source": [
    "sn.distplot(autos_df[autos_df.origin == 1]['mpg'],hist=False, label = 'American')\n",
    "sn.distplot(autos_df[autos_df.origin == 2]['mpg'], hist = False, label = 'European')\n",
    "sn.distplot(autos_df[autos_df.origin == 3]['mpg'], hist = False, label = 'Japenese')"
   ]
  },
  {
   "cell_type": "markdown",
   "metadata": {},
   "source": [
    "### Bar plot\n",
    "\n",
    "Seaborn package has `barplot` function\n",
    "\n",
    "look at the help for ?sn.barplot"
   ]
  },
  {
   "cell_type": "markdown",
   "metadata": {},
   "source": [
    "`barplot` function has an estimator paramter which will anyways estimate the average value of a numeric feature for each categorical feature.\n",
    "\n",
    "> Plot average miles per gallon for different cylinder types using autos_df dataframe"
   ]
  },
  {
   "cell_type": "code",
   "execution_count": 13,
   "metadata": {},
   "outputs": [
    {
     "data": {
      "text/plain": [
       "<matplotlib.axes._subplots.AxesSubplot at 0x106cdf518>"
      ]
     },
     "execution_count": 13,
     "metadata": {},
     "output_type": "execute_result"
    },
    {
     "data": {
      "image/png": "[encoded data removed]",
      "text/plain": [
       "<Figure size 432x288 with 1 Axes>"
      ]
     },
     "metadata": {
      "needs_background": "light"
     },
     "output_type": "display_data"
    }
   ],
   "source": [
    "sn.barplot(y = 'mpg',\n",
    "           x = 'cylinders',\n",
    "           data = autos_df,\n",
    "          )"
   ]
  },
  {
   "cell_type": "markdown",
   "metadata": {},
   "source": [
    "#### Exercise\n",
    "\n",
    "> Plot average miles per gallon for different cylinder types using pandas and seaborn\n",
    "\n",
    "1. Use groupby method to group by `cylinders` and calulcate mean of mpg. Name this dataframe as `mpg_cylinder_df`. You will have to reset the index of the dataframe (`mpg_cylinder_df`) using `reset_index()`\n",
    "2. call barplot from seaborn to plot `mpg_cylinder_df`.\n",
    "\n",
    "What difference do you observe between this plot and the one above?"
   ]
  },
  {
   "cell_type": "code",
   "execution_count": null,
   "metadata": {},
   "outputs": [],
   "source": []
  },
  {
   "cell_type": "markdown",
   "metadata": {},
   "source": [
    "> Draw the barplot for average miles per gallon grouped by cylinder and origin using the `autos_df`\n",
    "\n",
    "`barplot` function has an estimator paramter which will anyways estimate the average value of a numeric feature for each categorical feature."
   ]
  },
  {
   "cell_type": "code",
   "execution_count": null,
   "metadata": {},
   "outputs": [],
   "source": [
    "sn.barplot(x = 'cylinders',\n",
    "           y = 'mpg',\n",
    "           hue = 'origin',\n",
    "           data = autos_df)"
   ]
  },
  {
   "cell_type": "markdown",
   "metadata": {},
   "source": [
    "> The above plot seems to suggest that there is no car manufactured by american or european companies with 3 cylinders. Check the fact using `groupby` function on `autos_df`"
   ]
  },
  {
   "cell_type": "code",
   "execution_count": null,
   "metadata": {},
   "outputs": [],
   "source": [
    "autos_df.groupby(['origin','cylinders'])['cylinders'].count()"
   ]
  },
  {
   "cell_type": "markdown",
   "metadata": {},
   "source": [
    "#### Exercise\n",
    "\n",
    "> Draw the barplot for average miles per gallon grouped by cylinder and origin using pandas and seaborn\n",
    "\n",
    "1. Use groupby method to group by `cylinders`, `origin` and calulcate mean of mpg. Name this dataframe as `mpg_cylinders_origin_df`. You will have to reset the index of the dataframe (`mpg_cylinders_origin_df`) using `reset_index()`\n",
    "2. call barplot from seaborn to plot `mpg_cylinders_origin_df`.\n",
    "\n",
    "What difference do you observe between this plot and the one above?"
   ]
  },
  {
   "cell_type": "code",
   "execution_count": null,
   "metadata": {},
   "outputs": [],
   "source": []
  },
  {
   "cell_type": "markdown",
   "metadata": {},
   "source": [
    "### Trend plot\n",
    "\n",
    "Use the `factorplot` function of seaborn package\n",
    "\n",
    "Get help on ?sn.factorplot\n",
    "\n",
    "> * Vary the kind parameter( The kind of plot to draw) to understand different plots : {``point``, ``bar``, ``count``, ``box``, ``violin``, ``strip``}\n",
    "* Vary the size = 4, aspect = 1 paramter to see the impact\n"
   ]
  },
  {
   "cell_type": "markdown",
   "metadata": {},
   "source": [
    "> Plot the trend of average miles per gallon by year for different origins"
   ]
  },
  {
   "cell_type": "code",
   "execution_count": null,
   "metadata": {},
   "outputs": [],
   "source": [
    "sn.factorplot(x = 'model_year',\n",
    "              y = 'mpg',\n",
    "              hue = 'origin',\n",
    "              data = autos_df\n",
    "             )\n"
   ]
  },
  {
   "cell_type": "markdown",
   "metadata": {},
   "source": [
    "#### Exercise\n",
    "\n",
    "> Plot the trend of average miles per gallon by year for different origins (by using `groupby` function followed by `factorplot`. \n",
    "\n",
    "1. Use groupby method to group by `model_year`, `origin` and calulcate mean of mpg. Name this dataframe as `mpg_year_origin_df`. You will have to reset the index of the dataframe (`mpg_year_origin_df`) using `reset_index()`\n",
    "2. call barplot from seaborn to plot `mpg_year_origin_df`.\n",
    "\n",
    "What difference do you observe between this plot and the one above?"
   ]
  },
  {
   "cell_type": "code",
   "execution_count": null,
   "metadata": {},
   "outputs": [],
   "source": [
    "# your code here to group"
   ]
  },
  {
   "cell_type": "code",
   "execution_count": null,
   "metadata": {},
   "outputs": [],
   "source": [
    "# your code here for plot"
   ]
  },
  {
   "cell_type": "markdown",
   "metadata": {},
   "source": [
    "### Box Plot\n",
    "\n",
    "A boxplot is a graph that gives you a good indication of how the values in the data are spread out.\n",
    "\n",
    "To generate a box plot:Assume data as : 98, 77, 85, 88, 82, 83, 87, 67, 100, 63, 105\n",
    "\n",
    "> * Arrange data in ascending order: 63, 67, 77, 82, 83, 85, 87, 88, 98, 100, 105\n",
    "> * Calculate the median (middle value of the data, 85). This is Q2\n",
    "> * Calculate the median of the first half of the data, 77). This is Q1.\n",
    "> * Calculate the median of the second half of the data, 98). This is Q3.\n",
    "> * The box joins Q1 to Q3 (contains middle 50% of data).\n",
    "> * IQR = Q3 - Q1 = 11 \n",
    "> * LIF = Q1 - 1.5*IQR = 60.5 ; UIF = Q3 + 1.5 IQR = 114.5\n",
    "> * The point adjancent to LIF is 67 and point adjancent to UIF is 105.\n",
    "> * The smallest observation greater than or equal to `LIF`  builds lower whisker.\n",
    "> * The largest observation less than or equal to `UIF` builds upper whisker.\n",
    "\n",
    "> Point outside the fences are outliers.\n",
    "\n",
    "Intrepret boxplot:\n",
    "> * If wide box and long whiskers, then maybe the data doesn't cluster.\n",
    "> * If box is small and the whiskers are short, then probably your data does indeed\n",
    "cluster\n",
    "> * If box is small and the whiskers are long, then maybe the data clusters, but have\n",
    "some \"outliers\"\n",
    "\n",
    "Use `boxplot` function from the seaborn package.\n",
    "\n",
    "Get a help ?sn.boxplot"
   ]
  },
  {
   "cell_type": "markdown",
   "metadata": {},
   "source": [
    "> Box plot of miles per gallon for all cars"
   ]
  },
  {
   "cell_type": "code",
   "execution_count": 14,
   "metadata": {
    "scrolled": false
   },
   "outputs": [
    {
     "data": {
      "text/plain": [
       "<matplotlib.axes._subplots.AxesSubplot at 0x1a179d2320>"
      ]
     },
     "execution_count": 14,
     "metadata": {},
     "output_type": "execute_result"
    },
    {
     "data": {
      "image/png": "[encoded data removed]",
      "text/plain": [
       "<Figure size 432x288 with 1 Axes>"
      ]
     },
     "metadata": {
      "needs_background": "light"
     },
     "output_type": "display_data"
    }
   ],
   "source": [
    "sn.boxplot(autos_df.mpg)"
   ]
  },
  {
   "cell_type": "markdown",
   "metadata": {},
   "source": [
    "> Box plot of miles per gallon for different number of cylinders"
   ]
  },
  {
   "cell_type": "code",
   "execution_count": 15,
   "metadata": {
    "scrolled": true
   },
   "outputs": [
    {
     "data": {
      "text/plain": [
       "<matplotlib.axes._subplots.AxesSubplot at 0x1a17972048>"
      ]
     },
     "execution_count": 15,
     "metadata": {},
     "output_type": "execute_result"
    },
    {
     "data": {
      "image/png": "[encoded data removed]",
      "text/plain": [
       "<Figure size 432x288 with 1 Axes>"
      ]
     },
     "metadata": {
      "needs_background": "light"
     },
     "output_type": "display_data"
    }
   ],
   "source": [
    "sn.boxplot(x = 'cylinders',\n",
    "           y = 'mpg',\n",
    "           data = autos_df\n",
    "          )"
   ]
  },
  {
   "cell_type": "markdown",
   "metadata": {},
   "source": [
    "#### Exercise\n",
    "\n",
    "> Draw box plot of miles per gallon for different number of cylinders using `factorplot` or `catplot`"
   ]
  },
  {
   "cell_type": "code",
   "execution_count": null,
   "metadata": {},
   "outputs": [],
   "source": []
  },
  {
   "cell_type": "markdown",
   "metadata": {},
   "source": [
    "What inference can be drawn based on the above plot?"
   ]
  },
  {
   "cell_type": "markdown",
   "metadata": {},
   "source": [
    "#### Identify outliers - Manual\n",
    "\n",
    "> Find the outlier points in six cylinder cars"
   ]
  },
  {
   "cell_type": "code",
   "execution_count": null,
   "metadata": {},
   "outputs": [],
   "source": [
    "Q3 = autos_df[autos_df.cylinders == 6].mpg.quantile( 0.75 )\n",
    "Q3\n",
    "Q1 = autos_df[autos_df.cylinders == 6].mpg.quantile( 0.25 )\n",
    "Q1\n",
    "IQR = Q3-Q1\n",
    "print(IQR)\n",
    "\n",
    "Outlier = Q3 + 1.5*IQR\n",
    "\n",
    "print (Outlier)"
   ]
  },
  {
   "cell_type": "markdown",
   "metadata": {},
   "source": [
    "> The cars which are outliers are (as reported by manual computation):"
   ]
  },
  {
   "cell_type": "code",
   "execution_count": null,
   "metadata": {},
   "outputs": [],
   "source": [
    "autos_6_cyl_df = autos_df[autos_df.cylinders == 6]\n",
    "\n",
    "autos_6_cyl_df[ autos_6_cyl_df.mpg > Outlier]"
   ]
  },
  {
   "cell_type": "markdown",
   "metadata": {},
   "source": [
    "#### Identify outliers - Scipy package"
   ]
  },
  {
   "cell_type": "code",
   "execution_count": null,
   "metadata": {},
   "outputs": [],
   "source": [
    "import scipy.stats as sts\n",
    "iqr = sts.iqr( autos_df[autos_df.cylinders == 6].mpg )\n",
    "iqr\n",
    "outlier = autos_df[autos_df.cylinders == 6].mpg.quantile( 0.75 ) + \\\n",
    "1.5 * sts.iqr( autos_df[autos_df.cylinders == 6].mpg )\n",
    "outlier"
   ]
  },
  {
   "cell_type": "markdown",
   "metadata": {},
   "source": [
    "> The cars which are outliers are (as reported by scipy package):"
   ]
  },
  {
   "cell_type": "code",
   "execution_count": null,
   "metadata": {},
   "outputs": [],
   "source": [
    "autos_6_cyl_df = autos_df[autos_df.cylinders == 6]\n",
    "\n",
    "autos_6_cyl_df[ autos_6_cyl_df.mpg > Outlier]"
   ]
  },
  {
   "cell_type": "markdown",
   "metadata": {},
   "source": [
    "#### Exercise\n",
    "\n",
    "> Draw boxplot of miles per gallon for different number of cylinders by different origins. Use `hue = 'origin'`"
   ]
  },
  {
   "cell_type": "code",
   "execution_count": null,
   "metadata": {},
   "outputs": [],
   "source": []
  },
  {
   "cell_type": "markdown",
   "metadata": {},
   "source": [
    "#### Exercise\n",
    "\n",
    "> Draw boxplot of horsepower for different number of cylinders by different origins. Use `hue = 'origin'`"
   ]
  },
  {
   "cell_type": "code",
   "execution_count": null,
   "metadata": {},
   "outputs": [],
   "source": []
  },
  {
   "cell_type": "markdown",
   "metadata": {},
   "source": [
    "### Scatter plot\n",
    "\n",
    "Scatter plot is a cloud of points showing a joint distribution of two numerical variables where each point represents an observation from the dataset. Helps to understand the relationship between two numerical variables. It gives an indication of movement of one continous variable w.r.t another continous variable. \n",
    "\n",
    "`lmplot` function from seaborn package can be used for scatter plot. \n",
    "\n",
    "Help on ?sn.lmplot"
   ]
  },
  {
   "cell_type": "markdown",
   "metadata": {},
   "source": [
    "> Plot between weight and miles per gallon of different cars. What inference can be drawn from it?"
   ]
  },
  {
   "cell_type": "code",
   "execution_count": null,
   "metadata": {
    "scrolled": false
   },
   "outputs": [],
   "source": [
    "sn.lmplot(data = autos_df,\n",
    "          x = 'weight',\n",
    "          y = 'mpg',\n",
    "          fit_reg = False);"
   ]
  },
  {
   "cell_type": "markdown",
   "metadata": {},
   "source": [
    "> Plot between weight and miles per gallon of different cars by their origin. What inference can be drawn from it?"
   ]
  },
  {
   "cell_type": "code",
   "execution_count": null,
   "metadata": {},
   "outputs": [],
   "source": [
    "sn.lmplot(data = autos_df,\n",
    "          x = 'weight',\n",
    "          y = 'mpg',\n",
    "          hue = 'origin',\n",
    "          fit_reg = False);"
   ]
  },
  {
   "cell_type": "markdown",
   "metadata": {},
   "source": [
    "### Pairplot\n",
    "\n",
    "Plot pairwise relationships in a dataset. The `pairplot` function can be used for the plot.\n",
    "\n",
    "Help on ?sn.pairplot"
   ]
  },
  {
   "cell_type": "markdown",
   "metadata": {},
   "source": [
    "> Plot between 'mpg', 'displacement','horsepower','acceleration','weight'"
   ]
  },
  {
   "cell_type": "code",
   "execution_count": null,
   "metadata": {},
   "outputs": [],
   "source": [
    "auto_clean_df = autos_df[['mpg',\n",
    "                          'displacement',\n",
    "                          'horsepower',\n",
    "                          'acceleration',\n",
    "                          'weight']].dropna()"
   ]
  },
  {
   "cell_type": "code",
   "execution_count": null,
   "metadata": {},
   "outputs": [],
   "source": [
    "sn.pairplot(auto_clean_df)"
   ]
  },
  {
   "cell_type": "markdown",
   "metadata": {},
   "source": [
    "### Heatmap\n",
    "\n",
    "Plot rectangular data as a color-encoded matrix. A rectangular dataset is a 2D dataset that can be coerced into an ndarray. If a Pandas DataFrame is provided, the index/column information will be used to label the columns and rows.\n",
    "\n",
    "Help on ?sn.heatmap"
   ]
  },
  {
   "cell_type": "markdown",
   "metadata": {},
   "source": [
    "> Plot the correlation between 'mpg', 'displacement','horsepower','acceleration','weight'"
   ]
  },
  {
   "cell_type": "code",
   "execution_count": null,
   "metadata": {
    "scrolled": false
   },
   "outputs": [],
   "source": [
    "auto_clean_df.corr()"
   ]
  },
  {
   "cell_type": "code",
   "execution_count": null,
   "metadata": {
    "scrolled": true
   },
   "outputs": [],
   "source": [
    "sn.heatmap(auto_clean_df.corr(),\n",
    "           annot = True,\n",
    "           cmap = sn.diverging_palette(250, 10, n = 25))"
   ]
  },
  {
   "cell_type": "markdown",
   "metadata": {},
   "source": [
    "### Jointplot\n",
    "\n",
    "Draw a plot of two variables with bivariate and univariate graphs. Jointplot can be used to show joint distribution between different variables along with the associated marginal distributions.\n",
    "\n",
    "`jointplot` also calculates a Pearson correlation coefficient (measures the linear relationship between two variables) and the p-value for testing non-correlation.\n",
    "\n",
    "Strictly speaking, Pearson’s correlation requires that each dataset be normally distributed, and not necessarily zero-mean. \n",
    "> * Like other correlation coefficients, this one varies between -1 and +1 with 0 implying no correlation.\n",
    "* Correlations of -1 or +1 imply an exact linear relationship. \n",
    "* Positive correlations imply that as x increases, so does y. \n",
    "* Negative correlations imply that as x increases, y decreases.\n",
    "\n",
    "More on corelation: https://docs.scipy.org/doc/scipy/reference/generated/scipy.stats.pearsonr.html\n",
    "#### scatter\n",
    "\n",
    "\n",
    "\n",
    "Scatter plot is a cloud of points showing a joint distribution of two numerical variables where each point represents an observation from the dataset. Helps to understand the relationship between two numerical variables\n",
    "\n",
    "Help on ?sn.jointplot"
   ]
  },
  {
   "cell_type": "markdown",
   "metadata": {},
   "source": [
    "> Scatter plot mpg and weight of the cars"
   ]
  },
  {
   "cell_type": "code",
   "execution_count": null,
   "metadata": {
    "scrolled": false
   },
   "outputs": [],
   "source": [
    "sn.jointplot(x = 'mpg',\n",
    "             y = 'weight',\n",
    "             data = autos_df, color = 'g',\n",
    "             kind = 'scatter'\n",
    "            )"
   ]
  },
  {
   "cell_type": "markdown",
   "metadata": {},
   "source": [
    "The problem with scatter plot in over plotting. When dataset is huge, dots of the scatterplot tend to overlap, and  graphic becomes unreadable and meanigless.\n",
    "\n",
    "#### hex\n",
    "\n",
    "\n",
    "In one dimension straight line segments are the only possible shape for bin in a histogram. However for data in two dimensions bins can be more general shape (rectangular/Hexagon):\n",
    "\n",
    "> * The obvious strategy is to choose a rectangular bin to build a histogram. Imagine the above scatter plot being filled with rectangular boxes (where the boxes represents the bins in horizontal and vertical direction). The count of values in each of the bins can be colored with gradient fill.\n",
    "* The hexagon tiling uses a hexagon shape for binning. The same scatterplot chart can be filled with hexagon shapes and the count of points falling in each hexagon can be used to fill the shape\n",
    "\n",
    "> Hex plot mpg and weight of the cars"
   ]
  },
  {
   "cell_type": "code",
   "execution_count": null,
   "metadata": {},
   "outputs": [],
   "source": [
    "sn.jointplot(x = 'mpg',\n",
    "             y = 'weight',\n",
    "             data = autos_df, color = 'k',\n",
    "             kind = 'hex'\n",
    "            )"
   ]
  },
  {
   "cell_type": "markdown",
   "metadata": {},
   "source": [
    "### Additional plots \n",
    "\n",
    "KDE plot and Violin Plot. For your read as home assignment.\n",
    "\n",
    "#### kde\n",
    "\n",
    "Kernel density estimation(KDE) plot — plots a smooth curve shape of the distribution. It is a nonparametric estimation of density where inferences about the population is made from the finite data sample.\n",
    "\n",
    "In a bivariate data, contour plot is used to represent the joint probability distribution in `jointplot`\n",
    "\n",
    "> A circle in a contour plot represents a set of (x,y) values for which the probability density values which were computed was same.\n",
    "\n",
    "More about KDE at: http://alanpryorjr.com/visualizations/seaborn/jointplot/jointplot/\n",
    "\n",
    "> Plot a kde chart on mpg and weight of the cars"
   ]
  },
  {
   "cell_type": "code",
   "execution_count": null,
   "metadata": {},
   "outputs": [],
   "source": [
    "g = sn.jointplot(x = 'mpg',\n",
    "             y = 'weight',\n",
    "             data = autos_df, color = 'r',\n",
    "             kind = 'kde'\n",
    "               )\n",
    "g.ax_joint.collections[0].set_alpha(0)\n",
    "#g.ax_joint.clabel(plt.contour())"
   ]
  },
  {
   "cell_type": "markdown",
   "metadata": {},
   "source": [
    "> `jointplot` of miles per gallon vs. weight with an overlap of `scatter` and `kde`"
   ]
  },
  {
   "cell_type": "code",
   "execution_count": null,
   "metadata": {},
   "outputs": [],
   "source": [
    "g = sn.jointplot(x = 'mpg',\n",
    "             y = 'weight',\n",
    "             data = autos_df, \n",
    "             color = 'r',\n",
    "             kind = 'kde'\n",
    "            )\n",
    "g.plot_joint(plt.scatter, c=\"grey\", s=30, linewidth=1, marker=\"+\")\n",
    "g.ax_joint.collections[0].set_alpha(0)"
   ]
  },
  {
   "cell_type": "markdown",
   "metadata": {},
   "source": [
    "#### Plot a discrete and continuous variable using kde\n",
    "\n",
    "1. Plot a kde on mpg and origin of the cars\n",
    "2. Plot a kde on cylinders and acceleration of the cars\n",
    "\n",
    "The kde shows the density of a continuous feature for each value of the target. There are usually 2 or 3 colored humps representing the 2 or 3 values of target. \n",
    "> * If the humps are well-separated and non-overlapping, then there is a correlation with the TARGET. \n",
    "* If the humps are overlapping a lot, then that means the feature is not well-correlated with the TARGET, because the TARGET is equally as common on those values of the feature.\n",
    "\n",
    "Pearson corelation does not make meaning with discrete and continuous variable."
   ]
  },
  {
   "cell_type": "code",
   "execution_count": null,
   "metadata": {},
   "outputs": [],
   "source": [
    "sn.jointplot(x = 'mpg',\n",
    "             y = 'origin',\n",
    "             data = autos_df, color = 'r', stat_func=None,\n",
    "             kind = 'kde'\n",
    "            )"
   ]
  },
  {
   "cell_type": "markdown",
   "metadata": {},
   "source": [
    "### Kdeplot\n",
    "To show the bivariate density more continuously increase the number of contour levels.\n",
    "\n",
    "Help on ?sn.kdeplot"
   ]
  },
  {
   "cell_type": "code",
   "execution_count": null,
   "metadata": {},
   "outputs": [],
   "source": [
    "cmap = sn.cubehelix_palette(as_cmap=True, dark=0, light=1, reverse=True)\n",
    "\n",
    "b = sn.kdeplot(autos_df.mpg,\n",
    "           autos_df.origin, \n",
    "           cmap=cmap, \n",
    "           n_levels=30,\n",
    "           shade=True, cbar=True\n",
    "          )"
   ]
  },
  {
   "cell_type": "markdown",
   "metadata": {},
   "source": [
    "### Violinplot\n",
    "Violin plot — combines KDE with box plots. In the interior of the violin we can show the individual observation or summary of the distribution. \n",
    "\n",
    "A violin plot plays a similar role as a box and whisker plot. It shows the distribution of quantitative data across several levels of one (or more) categorical variables such that those distributions can be compared. Unlike a box plot, in which all of the plot components correspond to actual datapoints, the violin plot features a kernel density estimation of the underlying distribution.\n",
    "\n",
    "> Plot miles per gallon for cars with different origin"
   ]
  },
  {
   "cell_type": "code",
   "execution_count": null,
   "metadata": {},
   "outputs": [],
   "source": [
    "sn.violinplot(x='origin',\n",
    "              y = 'mpg',\n",
    "              data = autos_df\n",
    "             )"
   ]
  },
  {
   "cell_type": "markdown",
   "metadata": {},
   "source": [
    "## Thank you"
   ]
  }
 ],
 "metadata": {
  "kernelspec": {
   "display_name": "Python 3",
   "language": "python",
   "name": "python3"
  },
  "language_info": {
   "codemirror_mode": {
    "name": "ipython",
    "version": 3
   },
   "file_extension": ".py",
   "mimetype": "text/x-python",
   "name": "python",
   "nbconvert_exporter": "python",
   "pygments_lexer": "ipython3",
   "version": "3.6.8"
  }
 },
 "nbformat": 4,
 "nbformat_minor": 2
}
