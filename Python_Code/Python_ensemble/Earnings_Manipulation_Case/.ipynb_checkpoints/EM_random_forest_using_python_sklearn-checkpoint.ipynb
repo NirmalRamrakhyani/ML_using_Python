{
 "cells": [
  {
   "cell_type": "markdown",
   "metadata": {},
   "source": [
    "<p style=\"font-family: Arial; font-size:2.75em;color:purple; font-style:bold\"><br>\n",
    "Random Forest using Python (sklearn):</p><br>\n",
    "<p style=\"font-family: Arial; font-size:2.25em;color:green; font-style:bold\"><br>\n",
    "Kumar Rahul</p><br>\n",
    "\n",
    "### We will be using Earnings Manipulation data (fraud_data.csv) in this exercise. Refer the Exhibit 1 to understand the feature list. Use the data and answer the below questions.\n",
    "\n",
    "> 1.\tLoad the dataset in Jupyter Notebook using pandas\n",
    "2.\tBuild a correlation matrix between all the numeric features in the dataset. Report the features, which are correlated at a cut-off of 0.70. What actions will you take on the features, which are highly correlated?\n",
    "3.\tCreate a new data frame with the numeric features and categorical features as dummy variable coded features. Which features will you include for model building and why?\n",
    "4.\tSplit the data into training set and test set. Use 80% of data for model training and 20% for model testing. \n",
    "5.\tUse sklearn package to build a random forest model using `Status` as a dependent variable and all other features as independent variable. Report the model performance on the test set.\n",
    "6.\tUse sklearn model selection module to fine-tune the model parameters of random forest model. Report the model performance on the test set.\n",
    "\n",
    "\n",
    "**PS: Not all the questions are being answered as a part of the same notebook. You are encouraged to answer the questions if you find them missing.**\n",
    "\n",
    "**Exhibit 1**\n",
    "\n",
    "\n",
    "|Sl. No.|\tName of Variable|\tVariable Description|\n",
    "|--------|--------------|------------------|\n",
    "|1\t|Company ID\t|Unique Identifier|\n",
    "|2 |\tDSRI\t|Days’ Sales in Receivables Index (DSRI): A large increase in receivable days might suggest accelerated revenue recognition to inflate profits.|\n",
    "|3\t|GMI\t|Gross Margin Index (GMI): A deteriorating gross margin sends a negative signal about a firm’s prospects and creates an incentive to inflate profits.|\n",
    "|4\t|AQI\t |Asset Quality Index (AQI): An increase in long term assets (for example, the capitalisation of costs), other than property plant and equipment, relative to total assets indicates that a firm has potentially increased its involvement in cost deferral to inflate profits.|\n",
    "|5\t|SGI\t|Sales Growth Index (SGI): High sales growth does not imply manipulation but high growth companies are more likely to commit financial fraud because their financial position and capital needs put pressure on managers to achieve earnings targets. If growth firms face large stock prices losses at the first indication of a slowdown, they may have greater incentives to manipulate earnings.|\n",
    "|6\t|DEPI \t |Depreciation (DEPI): A falling level of depreciation relative to net fixed assets raises the possibility that a firm has revised upwards the estimated useful life of assets, or adopted a new method that is income increasing.|\n",
    "|7\t|SGAI\t|Sales, General and Administrative Expenses (SGAI): Analysts might interpret a disproportionate increase in SG&A relative to sales as a negative signal about a firm’s future prospects, thereby creating an inventive to inflate profits.|\n",
    "|8\t|ACCR\t|Accruals to Total Assets (ACCR): Total accruals are calculated as the change in working capital (other than cash) less depreciation relative to total assets. Accruals, or a portion thereof, reflect the extent to which managers make discretionary accounting choices to alter earnings. A higher level of accruals is, therefore, associated with a higher likelihood of profit manipulation.|\n",
    "|9\t|LEVI\t|Leverage Index (LEVI): Leverage is measured as total debt relative to total assets. An increase in leverage creates an incentive to manipulate profits in order to meet debt covenants.|\n",
    "|10|\tStatus\t|Manipulator – Yes, Non Manipulator – No|\n",
    "\n",
    "***\n",
    "\n",
    "Learn more about random forest: https://www.stat.berkeley.edu/~breiman/RandomForests/cc_home.htm#intro\n",
    "\n",
    "# Code starts here\n",
    "\n",
    "To know the environment with the pyhton kernal\n",
    "\n"
   ]
  },
  {
   "cell_type": "code",
   "execution_count": 1,
   "metadata": {},
   "outputs": [
    {
     "data": {
      "text/plain": [
       "'/Users/Rahul/anaconda3/bin/python'"
      ]
     },
     "execution_count": 1,
     "metadata": {},
     "output_type": "execute_result"
    }
   ],
   "source": [
    "import sys, os\n",
    "\n",
    "sys.executable"
   ]
  },
  {
   "cell_type": "markdown",
   "metadata": {},
   "source": [
    "Supress the warnings"
   ]
  },
  {
   "cell_type": "code",
   "execution_count": 2,
   "metadata": {},
   "outputs": [],
   "source": [
    "import warnings\n",
    "warnings.filterwarnings(\"ignore\")"
   ]
  },
  {
   "cell_type": "markdown",
   "metadata": {},
   "source": [
    "We are going to use below mentioned libraries for **data import, processing and visulization**. As we progress, we will use other specific libraries for model building and evaluation. "
   ]
  },
  {
   "cell_type": "code",
   "execution_count": 3,
   "metadata": {
    "Rmd_chunk_options": "libraries, echo=TRUE, message=FALSE, warning=FALSE",
    "autoscroll": false
   },
   "outputs": [],
   "source": [
    "import pandas as pd \n",
    "import numpy as np\n",
    "import seaborn as sn # visualization library based on matplotlib\n",
    "import matplotlib.pylab as plt\n",
    "\n",
    "#the output of plotting commands is displayed inline within Jupyter notebook\n",
    "%matplotlib inline "
   ]
  },
  {
   "cell_type": "markdown",
   "metadata": {},
   "source": [
    "\n",
    "## Data Import and Manipulation\n",
    "\n",
    "### 1. Importing a data set\n",
    "\n",
    "_Give the correct path to the data_\n",
    "\n"
   ]
  },
  {
   "cell_type": "markdown",
   "metadata": {},
   "source": [
    "modify the ast_note_interactivity kernel option to see the value of multiple statements at once."
   ]
  },
  {
   "cell_type": "code",
   "execution_count": 4,
   "metadata": {},
   "outputs": [
    {
     "data": {
      "text/plain": [
       "'/Users/Rahul/Documents/Rahul Office/IIMB/Work @ IIMB/Training Material/Concepts/Python/Python_ensemble/Fixed code'"
      ]
     },
     "execution_count": 4,
     "metadata": {},
     "output_type": "execute_result"
    }
   ],
   "source": [
    "import os\n",
    "\n",
    "os.getcwd()\n",
    "\n",
    "#os.chdir()"
   ]
  },
  {
   "cell_type": "code",
   "execution_count": 5,
   "metadata": {},
   "outputs": [],
   "source": [
    "from IPython.core.interactiveshell import InteractiveShell\n",
    "InteractiveShell.ast_node_interactivity = \"all\""
   ]
  },
  {
   "cell_type": "code",
   "execution_count": 6,
   "metadata": {
    "Rmd_chunk_options": "readData, echo=TRUE,tidy=TRUE",
    "autoscroll": false,
    "scrolled": true
   },
   "outputs": [
    {
     "data": {
      "text/html": [
       "<div>\n",
       "<style scoped>\n",
       "    .dataframe tbody tr th:only-of-type {\n",
       "        vertical-align: middle;\n",
       "    }\n",
       "\n",
       "    .dataframe tbody tr th {\n",
       "        vertical-align: top;\n",
       "    }\n",
       "\n",
       "    .dataframe thead th {\n",
       "        text-align: right;\n",
       "    }\n",
       "</style>\n",
       "<table border=\"1\" class=\"dataframe\">\n",
       "  <thead>\n",
       "    <tr style=\"text-align: right;\">\n",
       "      <th></th>\n",
       "      <th>company_id</th>\n",
       "      <th>dsri</th>\n",
       "      <th>gmi</th>\n",
       "      <th>aqi</th>\n",
       "      <th>sgi</th>\n",
       "      <th>depi</th>\n",
       "      <th>sgai</th>\n",
       "      <th>accr</th>\n",
       "      <th>levi</th>\n",
       "      <th>status</th>\n",
       "    </tr>\n",
       "  </thead>\n",
       "  <tbody>\n",
       "    <tr>\n",
       "      <th>0</th>\n",
       "      <td>1</td>\n",
       "      <td>1.624742</td>\n",
       "      <td>1.128927</td>\n",
       "      <td>7.185053</td>\n",
       "      <td>0.366211</td>\n",
       "      <td>1.381519</td>\n",
       "      <td>1.624145</td>\n",
       "      <td>-0.166809</td>\n",
       "      <td>1.161082</td>\n",
       "      <td>Yes</td>\n",
       "    </tr>\n",
       "    <tr>\n",
       "      <th>1</th>\n",
       "      <td>2</td>\n",
       "      <td>1.000000</td>\n",
       "      <td>1.606492</td>\n",
       "      <td>1.004988</td>\n",
       "      <td>13.081433</td>\n",
       "      <td>0.400000</td>\n",
       "      <td>5.198207</td>\n",
       "      <td>0.060475</td>\n",
       "      <td>0.986732</td>\n",
       "      <td>Yes</td>\n",
       "    </tr>\n",
       "    <tr>\n",
       "      <th>2</th>\n",
       "      <td>3</td>\n",
       "      <td>1.000000</td>\n",
       "      <td>1.015607</td>\n",
       "      <td>1.241389</td>\n",
       "      <td>1.475018</td>\n",
       "      <td>1.169353</td>\n",
       "      <td>0.647671</td>\n",
       "      <td>0.036732</td>\n",
       "      <td>1.264305</td>\n",
       "      <td>Yes</td>\n",
       "    </tr>\n",
       "    <tr>\n",
       "      <th>3</th>\n",
       "      <td>4</td>\n",
       "      <td>1.486239</td>\n",
       "      <td>1.000000</td>\n",
       "      <td>0.465535</td>\n",
       "      <td>0.672840</td>\n",
       "      <td>2.000000</td>\n",
       "      <td>0.092890</td>\n",
       "      <td>0.273434</td>\n",
       "      <td>0.680975</td>\n",
       "      <td>Yes</td>\n",
       "    </tr>\n",
       "    <tr>\n",
       "      <th>4</th>\n",
       "      <td>5</td>\n",
       "      <td>1.000000</td>\n",
       "      <td>1.369038</td>\n",
       "      <td>0.637112</td>\n",
       "      <td>0.861346</td>\n",
       "      <td>1.454676</td>\n",
       "      <td>1.741460</td>\n",
       "      <td>0.123048</td>\n",
       "      <td>0.939047</td>\n",
       "      <td>Yes</td>\n",
       "    </tr>\n",
       "  </tbody>\n",
       "</table>\n",
       "</div>"
      ],
      "text/plain": [
       "   company_id      dsri       gmi       aqi        sgi      depi      sgai  \\\n",
       "0           1  1.624742  1.128927  7.185053   0.366211  1.381519  1.624145   \n",
       "1           2  1.000000  1.606492  1.004988  13.081433  0.400000  5.198207   \n",
       "2           3  1.000000  1.015607  1.241389   1.475018  1.169353  0.647671   \n",
       "3           4  1.486239  1.000000  0.465535   0.672840  2.000000  0.092890   \n",
       "4           5  1.000000  1.369038  0.637112   0.861346  1.454676  1.741460   \n",
       "\n",
       "       accr      levi status  \n",
       "0 -0.166809  1.161082    Yes  \n",
       "1  0.060475  0.986732    Yes  \n",
       "2  0.036732  1.264305    Yes  \n",
       "3  0.273434  0.680975    Yes  \n",
       "4  0.123048  0.939047    Yes  "
      ]
     },
     "execution_count": 6,
     "metadata": {},
     "output_type": "execute_result"
    }
   ],
   "source": [
    "raw_df = pd.read_csv( \"../Earnings_Manipulation_case/data/fraud_data.csv\", \n",
    "                        sep = ',', na_values = ['', ' '])\n",
    "\n",
    "raw_df.columns = raw_df.columns.str.lower().str.replace(' ', '_')\n",
    "raw_df.head()"
   ]
  },
  {
   "cell_type": "markdown",
   "metadata": {},
   "source": [
    "Dropping company_id as these will not be used for any analysis or model building."
   ]
  },
  {
   "cell_type": "code",
   "execution_count": 7,
   "metadata": {},
   "outputs": [],
   "source": [
    "#?raw_df.drop()"
   ]
  },
  {
   "cell_type": "code",
   "execution_count": 8,
   "metadata": {
    "scrolled": false
   },
   "outputs": [
    {
     "data": {
      "text/html": [
       "<div>\n",
       "<style scoped>\n",
       "    .dataframe tbody tr th:only-of-type {\n",
       "        vertical-align: middle;\n",
       "    }\n",
       "\n",
       "    .dataframe tbody tr th {\n",
       "        vertical-align: top;\n",
       "    }\n",
       "\n",
       "    .dataframe thead th {\n",
       "        text-align: right;\n",
       "    }\n",
       "</style>\n",
       "<table border=\"1\" class=\"dataframe\">\n",
       "  <thead>\n",
       "    <tr style=\"text-align: right;\">\n",
       "      <th></th>\n",
       "      <th>dsri</th>\n",
       "      <th>gmi</th>\n",
       "      <th>aqi</th>\n",
       "      <th>sgi</th>\n",
       "      <th>depi</th>\n",
       "      <th>sgai</th>\n",
       "      <th>accr</th>\n",
       "      <th>levi</th>\n",
       "      <th>status</th>\n",
       "    </tr>\n",
       "  </thead>\n",
       "  <tbody>\n",
       "    <tr>\n",
       "      <th>0</th>\n",
       "      <td>1.624742</td>\n",
       "      <td>1.128927</td>\n",
       "      <td>7.185053</td>\n",
       "      <td>0.366211</td>\n",
       "      <td>1.381519</td>\n",
       "      <td>1.624145</td>\n",
       "      <td>-0.166809</td>\n",
       "      <td>1.161082</td>\n",
       "      <td>Yes</td>\n",
       "    </tr>\n",
       "    <tr>\n",
       "      <th>1</th>\n",
       "      <td>1.000000</td>\n",
       "      <td>1.606492</td>\n",
       "      <td>1.004988</td>\n",
       "      <td>13.081433</td>\n",
       "      <td>0.400000</td>\n",
       "      <td>5.198207</td>\n",
       "      <td>0.060475</td>\n",
       "      <td>0.986732</td>\n",
       "      <td>Yes</td>\n",
       "    </tr>\n",
       "    <tr>\n",
       "      <th>2</th>\n",
       "      <td>1.000000</td>\n",
       "      <td>1.015607</td>\n",
       "      <td>1.241389</td>\n",
       "      <td>1.475018</td>\n",
       "      <td>1.169353</td>\n",
       "      <td>0.647671</td>\n",
       "      <td>0.036732</td>\n",
       "      <td>1.264305</td>\n",
       "      <td>Yes</td>\n",
       "    </tr>\n",
       "    <tr>\n",
       "      <th>3</th>\n",
       "      <td>1.486239</td>\n",
       "      <td>1.000000</td>\n",
       "      <td>0.465535</td>\n",
       "      <td>0.672840</td>\n",
       "      <td>2.000000</td>\n",
       "      <td>0.092890</td>\n",
       "      <td>0.273434</td>\n",
       "      <td>0.680975</td>\n",
       "      <td>Yes</td>\n",
       "    </tr>\n",
       "    <tr>\n",
       "      <th>4</th>\n",
       "      <td>1.000000</td>\n",
       "      <td>1.369038</td>\n",
       "      <td>0.637112</td>\n",
       "      <td>0.861346</td>\n",
       "      <td>1.454676</td>\n",
       "      <td>1.741460</td>\n",
       "      <td>0.123048</td>\n",
       "      <td>0.939047</td>\n",
       "      <td>Yes</td>\n",
       "    </tr>\n",
       "  </tbody>\n",
       "</table>\n",
       "</div>"
      ],
      "text/plain": [
       "       dsri       gmi       aqi        sgi      depi      sgai      accr  \\\n",
       "0  1.624742  1.128927  7.185053   0.366211  1.381519  1.624145 -0.166809   \n",
       "1  1.000000  1.606492  1.004988  13.081433  0.400000  5.198207  0.060475   \n",
       "2  1.000000  1.015607  1.241389   1.475018  1.169353  0.647671  0.036732   \n",
       "3  1.486239  1.000000  0.465535   0.672840  2.000000  0.092890  0.273434   \n",
       "4  1.000000  1.369038  0.637112   0.861346  1.454676  1.741460  0.123048   \n",
       "\n",
       "       levi status  \n",
       "0  1.161082    Yes  \n",
       "1  0.986732    Yes  \n",
       "2  1.264305    Yes  \n",
       "3  0.680975    Yes  \n",
       "4  0.939047    Yes  "
      ]
     },
     "execution_count": 8,
     "metadata": {},
     "output_type": "execute_result"
    }
   ],
   "source": [
    "if set(['company_id']).issubset(raw_df.columns):\n",
    "    raw_df.drop(['company_id'],axis=1, inplace=True)\n",
    "    \n",
    "raw_df.head()"
   ]
  },
  {
   "cell_type": "markdown",
   "metadata": {},
   "source": [
    "\n",
    "### 2. Structure of the dataset\n",
    "\n"
   ]
  },
  {
   "cell_type": "code",
   "execution_count": 9,
   "metadata": {
    "Rmd_chunk_options": "summarizeData, echo=TRUE,tidy=TRUE",
    "autoscroll": false,
    "scrolled": false
   },
   "outputs": [
    {
     "name": "stdout",
     "output_type": "stream",
     "text": [
      "<class 'pandas.core.frame.DataFrame'>\n",
      "RangeIndex: 1239 entries, 0 to 1238\n",
      "Data columns (total 9 columns):\n",
      "dsri      1239 non-null float64\n",
      "gmi       1239 non-null float64\n",
      "aqi       1239 non-null float64\n",
      "sgi       1239 non-null float64\n",
      "depi      1239 non-null float64\n",
      "sgai      1239 non-null float64\n",
      "accr      1239 non-null float64\n",
      "levi      1239 non-null float64\n",
      "status    1239 non-null object\n",
      "dtypes: float64(8), object(1)\n",
      "memory usage: 87.2+ KB\n"
     ]
    }
   ],
   "source": [
    "raw_df.info()"
   ]
  },
  {
   "cell_type": "code",
   "execution_count": 10,
   "metadata": {},
   "outputs": [
    {
     "data": {
      "text/plain": [
       "No     1200\n",
       "Yes      39\n",
       "Name: status, dtype: int64"
      ]
     },
     "execution_count": 10,
     "metadata": {},
     "output_type": "execute_result"
    },
    {
     "data": {
      "text/html": [
       "<div>\n",
       "<style scoped>\n",
       "    .dataframe tbody tr th:only-of-type {\n",
       "        vertical-align: middle;\n",
       "    }\n",
       "\n",
       "    .dataframe tbody tr th {\n",
       "        vertical-align: top;\n",
       "    }\n",
       "\n",
       "    .dataframe thead th {\n",
       "        text-align: right;\n",
       "    }\n",
       "</style>\n",
       "<table border=\"1\" class=\"dataframe\">\n",
       "  <thead>\n",
       "    <tr style=\"text-align: right;\">\n",
       "      <th></th>\n",
       "      <th>count</th>\n",
       "      <th>mean</th>\n",
       "      <th>std</th>\n",
       "      <th>min</th>\n",
       "      <th>25%</th>\n",
       "      <th>50%</th>\n",
       "      <th>75%</th>\n",
       "      <th>max</th>\n",
       "    </tr>\n",
       "  </thead>\n",
       "  <tbody>\n",
       "    <tr>\n",
       "      <th>dsri</th>\n",
       "      <td>1239.0</td>\n",
       "      <td>1.169082</td>\n",
       "      <td>1.289705</td>\n",
       "      <td>0.000000</td>\n",
       "      <td>0.890833</td>\n",
       "      <td>1.022724</td>\n",
       "      <td>1.192495</td>\n",
       "      <td>36.291185</td>\n",
       "    </tr>\n",
       "    <tr>\n",
       "      <th>gmi</th>\n",
       "      <td>1239.0</td>\n",
       "      <td>0.987862</td>\n",
       "      <td>1.585856</td>\n",
       "      <td>-20.811849</td>\n",
       "      <td>0.927076</td>\n",
       "      <td>1.000000</td>\n",
       "      <td>1.057962</td>\n",
       "      <td>46.466667</td>\n",
       "    </tr>\n",
       "    <tr>\n",
       "      <th>aqi</th>\n",
       "      <td>1239.0</td>\n",
       "      <td>0.997819</td>\n",
       "      <td>2.559627</td>\n",
       "      <td>-32.885647</td>\n",
       "      <td>0.771214</td>\n",
       "      <td>1.004023</td>\n",
       "      <td>1.216278</td>\n",
       "      <td>52.886734</td>\n",
       "    </tr>\n",
       "    <tr>\n",
       "      <th>sgi</th>\n",
       "      <td>1239.0</td>\n",
       "      <td>1.127086</td>\n",
       "      <td>0.653244</td>\n",
       "      <td>0.027685</td>\n",
       "      <td>0.970208</td>\n",
       "      <td>1.088962</td>\n",
       "      <td>1.199975</td>\n",
       "      <td>13.081433</td>\n",
       "    </tr>\n",
       "    <tr>\n",
       "      <th>depi</th>\n",
       "      <td>1239.0</td>\n",
       "      <td>1.040142</td>\n",
       "      <td>0.360644</td>\n",
       "      <td>0.068823</td>\n",
       "      <td>0.936904</td>\n",
       "      <td>1.001908</td>\n",
       "      <td>1.081363</td>\n",
       "      <td>5.393872</td>\n",
       "    </tr>\n",
       "    <tr>\n",
       "      <th>sgai</th>\n",
       "      <td>1239.0</td>\n",
       "      <td>1.107229</td>\n",
       "      <td>1.478032</td>\n",
       "      <td>0.000000</td>\n",
       "      <td>0.898767</td>\n",
       "      <td>1.000000</td>\n",
       "      <td>1.129950</td>\n",
       "      <td>49.301781</td>\n",
       "    </tr>\n",
       "    <tr>\n",
       "      <th>accr</th>\n",
       "      <td>1239.0</td>\n",
       "      <td>-0.032421</td>\n",
       "      <td>0.142540</td>\n",
       "      <td>-3.143505</td>\n",
       "      <td>-0.076328</td>\n",
       "      <td>-0.029245</td>\n",
       "      <td>0.022519</td>\n",
       "      <td>0.959888</td>\n",
       "    </tr>\n",
       "    <tr>\n",
       "      <th>levi</th>\n",
       "      <td>1239.0</td>\n",
       "      <td>1.057094</td>\n",
       "      <td>0.520369</td>\n",
       "      <td>0.000000</td>\n",
       "      <td>0.923212</td>\n",
       "      <td>1.013065</td>\n",
       "      <td>1.115624</td>\n",
       "      <td>13.058559</td>\n",
       "    </tr>\n",
       "  </tbody>\n",
       "</table>\n",
       "</div>"
      ],
      "text/plain": [
       "       count      mean       std        min       25%       50%       75%  \\\n",
       "dsri  1239.0  1.169082  1.289705   0.000000  0.890833  1.022724  1.192495   \n",
       "gmi   1239.0  0.987862  1.585856 -20.811849  0.927076  1.000000  1.057962   \n",
       "aqi   1239.0  0.997819  2.559627 -32.885647  0.771214  1.004023  1.216278   \n",
       "sgi   1239.0  1.127086  0.653244   0.027685  0.970208  1.088962  1.199975   \n",
       "depi  1239.0  1.040142  0.360644   0.068823  0.936904  1.001908  1.081363   \n",
       "sgai  1239.0  1.107229  1.478032   0.000000  0.898767  1.000000  1.129950   \n",
       "accr  1239.0 -0.032421  0.142540  -3.143505 -0.076328 -0.029245  0.022519   \n",
       "levi  1239.0  1.057094  0.520369   0.000000  0.923212  1.013065  1.115624   \n",
       "\n",
       "            max  \n",
       "dsri  36.291185  \n",
       "gmi   46.466667  \n",
       "aqi   52.886734  \n",
       "sgi   13.081433  \n",
       "depi   5.393872  \n",
       "sgai  49.301781  \n",
       "accr   0.959888  \n",
       "levi  13.058559  "
      ]
     },
     "execution_count": 10,
     "metadata": {},
     "output_type": "execute_result"
    }
   ],
   "source": [
    "raw_df.status.value_counts()\n",
    "#raw_df.describe(include='all').transpose()\n",
    "raw_df.describe().transpose()"
   ]
  },
  {
   "cell_type": "markdown",
   "metadata": {},
   "source": [
    "To get a help on the features of a object"
   ]
  },
  {
   "cell_type": "code",
   "execution_count": 11,
   "metadata": {},
   "outputs": [],
   "source": [
    "#?raw_df.status.value_counts()"
   ]
  },
  {
   "cell_type": "markdown",
   "metadata": {},
   "source": [
    "### 2. Summarizing the dataset\n",
    "Create a new data frame and store the raw data copy. This is being done to have a copy of the raw data intact for further manipulation if needed. The *dropna()* function is used for row wise deletion of missing value. The axis = 0 means row-wise, 1 means column wise.\n"
   ]
  },
  {
   "cell_type": "code",
   "execution_count": 12,
   "metadata": {
    "Rmd_chunk_options": "createDataCopy, echo=TRUE,tidy=TRUE",
    "autoscroll": false,
    "scrolled": false
   },
   "outputs": [
    {
     "data": {
      "text/plain": [
       "['dsri', 'gmi', 'aqi', 'sgi', 'depi', 'sgai', 'accr', 'levi', 'status']"
      ]
     },
     "execution_count": 12,
     "metadata": {},
     "output_type": "execute_result"
    }
   ],
   "source": [
    "filter_df = raw_df.dropna(axis=0, how='any', thresh=None, \n",
    "                             subset=None, inplace=False)\n",
    "\n",
    "list(filter_df.columns )"
   ]
  },
  {
   "cell_type": "markdown",
   "metadata": {},
   "source": [
    "We will first start by printing the unique labels in categorical features"
   ]
  },
  {
   "cell_type": "code",
   "execution_count": 13,
   "metadata": {
    "scrolled": false
   },
   "outputs": [
    {
     "name": "stdout",
     "output_type": "stream",
     "text": [
      "\n",
      "The unique labels in status is ['Yes' 'No']\n",
      "\n",
      "The values in status is \n",
      "No     1200\n",
      "Yes      39\n",
      "Name: status, dtype: int64\n",
      "\n"
     ]
    }
   ],
   "source": [
    "numerical_features = ['dsri', 'gmi', 'aqi', 'sgi', 'depi', 'sgai', 'accr', 'levi']\n",
    "\n",
    "categorical_features = ['status']\n",
    "\n",
    "for f in categorical_features:\n",
    "    print(\"\\nThe unique labels in {} is {}\\n\".format(f, filter_df[f].unique()))\n",
    "    print(\"The values in {} is \\n{}\\n\".format(f,  filter_df[f].value_counts()))\n"
   ]
  },
  {
   "cell_type": "markdown",
   "metadata": {},
   "source": [
    "We will use **groupby** function of pandas to get deeper insights on Manipulators **Yes** or **No**. We will write a generic function to report the mean by any categorical variable."
   ]
  },
  {
   "cell_type": "code",
   "execution_count": 14,
   "metadata": {},
   "outputs": [],
   "source": [
    "def group_by (categorical_features):\n",
    "    return filter_df.groupby(categorical_features).mean()\n",
    "\n"
   ]
  },
  {
   "cell_type": "code",
   "execution_count": 15,
   "metadata": {},
   "outputs": [
    {
     "data": {
      "text/html": [
       "<div>\n",
       "<style scoped>\n",
       "    .dataframe tbody tr th:only-of-type {\n",
       "        vertical-align: middle;\n",
       "    }\n",
       "\n",
       "    .dataframe tbody tr th {\n",
       "        vertical-align: top;\n",
       "    }\n",
       "\n",
       "    .dataframe thead th {\n",
       "        text-align: right;\n",
       "    }\n",
       "</style>\n",
       "<table border=\"1\" class=\"dataframe\">\n",
       "  <thead>\n",
       "    <tr style=\"text-align: right;\">\n",
       "      <th></th>\n",
       "      <th>dsri</th>\n",
       "      <th>gmi</th>\n",
       "      <th>aqi</th>\n",
       "      <th>sgi</th>\n",
       "      <th>depi</th>\n",
       "      <th>sgai</th>\n",
       "      <th>accr</th>\n",
       "      <th>levi</th>\n",
       "    </tr>\n",
       "    <tr>\n",
       "      <th>status</th>\n",
       "      <th></th>\n",
       "      <th></th>\n",
       "      <th></th>\n",
       "      <th></th>\n",
       "      <th></th>\n",
       "      <th></th>\n",
       "      <th></th>\n",
       "      <th></th>\n",
       "    </tr>\n",
       "  </thead>\n",
       "  <tbody>\n",
       "    <tr>\n",
       "      <th>No</th>\n",
       "      <td>1.102817</td>\n",
       "      <td>0.949748</td>\n",
       "      <td>0.935714</td>\n",
       "      <td>1.103604</td>\n",
       "      <td>1.042538</td>\n",
       "      <td>1.053041</td>\n",
       "      <td>-0.035234</td>\n",
       "      <td>1.044150</td>\n",
       "    </tr>\n",
       "    <tr>\n",
       "      <th>Yes</th>\n",
       "      <td>3.208011</td>\n",
       "      <td>2.160607</td>\n",
       "      <td>2.908729</td>\n",
       "      <td>1.849596</td>\n",
       "      <td>0.966428</td>\n",
       "      <td>2.774560</td>\n",
       "      <td>0.054131</td>\n",
       "      <td>1.455367</td>\n",
       "    </tr>\n",
       "  </tbody>\n",
       "</table>\n",
       "</div>"
      ],
      "text/plain": [
       "            dsri       gmi       aqi       sgi      depi      sgai      accr  \\\n",
       "status                                                                         \n",
       "No      1.102817  0.949748  0.935714  1.103604  1.042538  1.053041 -0.035234   \n",
       "Yes     3.208011  2.160607  2.908729  1.849596  0.966428  2.774560  0.054131   \n",
       "\n",
       "            levi  \n",
       "status            \n",
       "No      1.044150  \n",
       "Yes     1.455367  "
      ]
     },
     "execution_count": 15,
     "metadata": {},
     "output_type": "execute_result"
    }
   ],
   "source": [
    "group_by(\"status\")"
   ]
  },
  {
   "cell_type": "markdown",
   "metadata": {},
   "source": [
    "### 3. Visualizing the Data\n",
    "\n",
    "Plot can be done using the callable functions of \n",
    "\n",
    ">1. pandas library (http://pandas.pydata.org/pandas-docs/stable/visualization.html)\n",
    "2. matplotlib library (https://matplotlib.org/) or\n",
    "3. seaborn library (https://seaborn.pydata.org/) which is based on matplotlib and provides interface for drawing attractive statistical graphics.\n",
    "\n",
    "#### 3a. Visualizing the Data using pandas"
   ]
  },
  {
   "cell_type": "code",
   "execution_count": 16,
   "metadata": {},
   "outputs": [],
   "source": [
    "def hist_plot(data, group_by, xlabel,ylabel):\n",
    "    pd.crosstab(data,group_by).plot(kind='density')\n",
    "    plt.xlabel(xlabel, size = 14)\n",
    "    plt.ylabel(ylabel, size = 14)\n",
    "    plt.title('Plot', size = 18)\n",
    "    plt.grid(True)\n",
    "    x1,x2,y1,y2 = plt.axis()\n",
    "    plt.axis((0,x2,y1,y2))\n",
    "    plt.show()\n",
    "    #plt.subplot(1, 2)"
   ]
  },
  {
   "cell_type": "code",
   "execution_count": 17,
   "metadata": {
    "scrolled": false
   },
   "outputs": [
    {
     "data": {
      "image/png": "[encoded data removed]",
      "text/plain": [
       "<Figure size 432x288 with 1 Axes>"
      ]
     },
     "metadata": {
      "needs_background": "light"
     },
     "output_type": "display_data"
    },
    {
     "data": {
      "image/png": "[encoded data removed]",
      "text/plain": [
       "<Figure size 432x288 with 1 Axes>"
      ]
     },
     "metadata": {
      "needs_background": "light"
     },
     "output_type": "display_data"
    },
    {
     "data": {
      "image/png": "[encoded data removed]",
      "text/plain": [
       "<Figure size 432x288 with 1 Axes>"
      ]
     },
     "metadata": {
      "needs_background": "light"
     },
     "output_type": "display_data"
    },
    {
     "data": {
      "image/png": "[encoded data removed]",
      "text/plain": [
       "<Figure size 432x288 with 1 Axes>"
      ]
     },
     "metadata": {
      "needs_background": "light"
     },
     "output_type": "display_data"
    },
    {
     "data": {
      "image/png": "[encoded data removed]",
      "text/plain": [
       "<Figure size 432x288 with 1 Axes>"
      ]
     },
     "metadata": {
      "needs_background": "light"
     },
     "output_type": "display_data"
    },
    {
     "data": {
      "image/png": "[encoded data removed]",
      "text/plain": [
       "<Figure size 432x288 with 1 Axes>"
      ]
     },
     "metadata": {
      "needs_background": "light"
     },
     "output_type": "display_data"
    },
    {
     "data": {
      "image/png": "[encoded data removed]",
      "text/plain": [
       "<Figure size 432x288 with 1 Axes>"
      ]
     },
     "metadata": {
      "needs_background": "light"
     },
     "output_type": "display_data"
    },
    {
     "data": {
      "image/png": "[encoded data removed]",
      "text/plain": [
       "<Figure size 432x288 with 1 Axes>"
      ]
     },
     "metadata": {
      "needs_background": "light"
     },
     "output_type": "display_data"
    }
   ],
   "source": [
    "numerical_features_set = ['dsri', 'gmi', 'aqi', 'sgi', 'depi', 'sgai', 'accr', 'levi']\n",
    "categorical_features_set = ['status']\n",
    "\n",
    "for c in categorical_features_set:\n",
    "    for n in numerical_features_set:\n",
    "        hist_plot(filter_df[n], filter_df[c], n,c)"
   ]
  },
  {
   "cell_type": "markdown",
   "metadata": {},
   "source": [
    "## Model Building: \n",
    "\n",
    "### Dummy Variable coding\n",
    "\n",
    "Remove the response variable from the dataset¶\n"
   ]
  },
  {
   "cell_type": "code",
   "execution_count": 18,
   "metadata": {},
   "outputs": [],
   "source": [
    "X_features = list(filter_df.columns)\n",
    "X_features.remove('status')"
   ]
  },
  {
   "cell_type": "code",
   "execution_count": 19,
   "metadata": {
    "scrolled": true
   },
   "outputs": [
    {
     "data": {
      "text/plain": [
       "['dsri', 'gmi', 'aqi', 'sgi', 'depi', 'sgai', 'accr', 'levi']"
      ]
     },
     "execution_count": 19,
     "metadata": {},
     "output_type": "execute_result"
    }
   ],
   "source": [
    "X_features"
   ]
  },
  {
   "cell_type": "code",
   "execution_count": 20,
   "metadata": {},
   "outputs": [],
   "source": [
    "categorical_features = ['status']"
   ]
  },
  {
   "cell_type": "code",
   "execution_count": 21,
   "metadata": {},
   "outputs": [],
   "source": [
    "encoded_X_df = pd.get_dummies( filter_df[X_features], drop_first = False )\n",
    "encoded_Y_df = pd.get_dummies( filter_df['status'], drop_first=False)"
   ]
  },
  {
   "cell_type": "code",
   "execution_count": 22,
   "metadata": {},
   "outputs": [
    {
     "data": {
      "text/html": [
       "<div>\n",
       "<style scoped>\n",
       "    .dataframe tbody tr th:only-of-type {\n",
       "        vertical-align: middle;\n",
       "    }\n",
       "\n",
       "    .dataframe tbody tr th {\n",
       "        vertical-align: top;\n",
       "    }\n",
       "\n",
       "    .dataframe thead th {\n",
       "        text-align: right;\n",
       "    }\n",
       "</style>\n",
       "<table border=\"1\" class=\"dataframe\">\n",
       "  <thead>\n",
       "    <tr style=\"text-align: right;\">\n",
       "      <th></th>\n",
       "      <th>No</th>\n",
       "      <th>Yes</th>\n",
       "    </tr>\n",
       "  </thead>\n",
       "  <tbody>\n",
       "    <tr>\n",
       "      <th>0</th>\n",
       "      <td>0</td>\n",
       "      <td>1</td>\n",
       "    </tr>\n",
       "    <tr>\n",
       "      <th>1</th>\n",
       "      <td>0</td>\n",
       "      <td>1</td>\n",
       "    </tr>\n",
       "    <tr>\n",
       "      <th>2</th>\n",
       "      <td>0</td>\n",
       "      <td>1</td>\n",
       "    </tr>\n",
       "    <tr>\n",
       "      <th>3</th>\n",
       "      <td>0</td>\n",
       "      <td>1</td>\n",
       "    </tr>\n",
       "    <tr>\n",
       "      <th>4</th>\n",
       "      <td>0</td>\n",
       "      <td>1</td>\n",
       "    </tr>\n",
       "  </tbody>\n",
       "</table>\n",
       "</div>"
      ],
      "text/plain": [
       "   No  Yes\n",
       "0   0    1\n",
       "1   0    1\n",
       "2   0    1\n",
       "3   0    1\n",
       "4   0    1"
      ]
     },
     "execution_count": 22,
     "metadata": {},
     "output_type": "execute_result"
    }
   ],
   "source": [
    "#?pd.get_dummies\n",
    "encoded_Y_df.head()"
   ]
  },
  {
   "cell_type": "code",
   "execution_count": 23,
   "metadata": {},
   "outputs": [
    {
     "name": "stdout",
     "output_type": "stream",
     "text": [
      "<class 'pandas.core.frame.DataFrame'>\n",
      "Int64Index: 1239 entries, 0 to 1238\n",
      "Data columns (total 8 columns):\n",
      "dsri    1239 non-null float64\n",
      "gmi     1239 non-null float64\n",
      "aqi     1239 non-null float64\n",
      "sgi     1239 non-null float64\n",
      "depi    1239 non-null float64\n",
      "sgai    1239 non-null float64\n",
      "accr    1239 non-null float64\n",
      "levi    1239 non-null float64\n",
      "dtypes: float64(8)\n",
      "memory usage: 87.1 KB\n"
     ]
    }
   ],
   "source": [
    "pd.options.display.max_columns = None\n",
    "encoded_X_df.info()"
   ]
  },
  {
   "cell_type": "code",
   "execution_count": 24,
   "metadata": {},
   "outputs": [],
   "source": [
    "Y = encoded_Y_df.filter(['Yes'], axis =1)\n",
    "X = encoded_X_df"
   ]
  },
  {
   "cell_type": "markdown",
   "metadata": {},
   "source": [
    "### Train and test data split using Python\n",
    "\n",
    "The train and test split can also be done using the **sklearn module**"
   ]
  },
  {
   "cell_type": "code",
   "execution_count": 25,
   "metadata": {},
   "outputs": [],
   "source": [
    "from sklearn.model_selection import train_test_split\n",
    "\n",
    "X_train, X_test, y_train, y_test = train_test_split( X, Y, test_size = 0.3, random_state = 42)"
   ]
  },
  {
   "cell_type": "code",
   "execution_count": 26,
   "metadata": {},
   "outputs": [
    {
     "data": {
      "text/plain": [
       "0    365\n",
       "1      7\n",
       "Name: Yes, dtype: int64"
      ]
     },
     "execution_count": 26,
     "metadata": {},
     "output_type": "execute_result"
    },
    {
     "data": {
      "text/plain": [
       "0    835\n",
       "1     32\n",
       "Name: Yes, dtype: int64"
      ]
     },
     "execution_count": 26,
     "metadata": {},
     "output_type": "execute_result"
    }
   ],
   "source": [
    "y_test.Yes.value_counts()\n",
    "\n",
    "y_train.Yes.value_counts()"
   ]
  },
  {
   "cell_type": "markdown",
   "metadata": {},
   "source": [
    "## Model Building: Using the **sklearn** \n",
    "\n"
   ]
  },
  {
   "cell_type": "code",
   "execution_count": 27,
   "metadata": {},
   "outputs": [],
   "source": [
    "from sklearn import ensemble #linear_model, ensemble, neural_network, naive bayes, svm, tree\n",
    "#dir(ensemble)"
   ]
  },
  {
   "cell_type": "code",
   "execution_count": 28,
   "metadata": {
    "Rmd_chunk_options": "caretModel, echo=TRUE, message=FALSE, warning=FALSE",
    "autoscroll": false
   },
   "outputs": [],
   "source": [
    "#?ensemble.GradientBoostingClassifier"
   ]
  },
  {
   "cell_type": "code",
   "execution_count": 29,
   "metadata": {
    "Rmd_chunk_options": "caretModel, echo=TRUE, message=FALSE, warning=FALSE",
    "autoscroll": false,
    "scrolled": false
   },
   "outputs": [
    {
     "data": {
      "text/plain": [
       "'\\nThe “balanced” mode uses the values of y to automatically adjust weights \\ninversely proportional to class frequencies in the input data as \\nn_samples / (n_classes * np.bincount(y))\\n'"
      ]
     },
     "execution_count": 29,
     "metadata": {},
     "output_type": "execute_result"
    },
    {
     "data": {
      "text/plain": [
       "RandomForestClassifier(bootstrap=True, class_weight='balanced_subsample',\n",
       "                       criterion='gini', max_depth=4, max_features='auto',\n",
       "                       max_leaf_nodes=None, min_impurity_decrease=0.001,\n",
       "                       min_impurity_split=None, min_samples_leaf=30,\n",
       "                       min_samples_split=50, min_weight_fraction_leaf=0.0,\n",
       "                       n_estimators=500, n_jobs=None, oob_score=True,\n",
       "                       random_state=42, verbose=0, warm_start=False)"
      ]
     },
     "execution_count": 29,
     "metadata": {},
     "output_type": "execute_result"
    }
   ],
   "source": [
    "\"\"\"\n",
    "The “balanced” mode uses the values of y to automatically adjust weights \n",
    "inversely proportional to class frequencies in the input data as \n",
    "n_samples / (n_classes * np.bincount(y))\n",
    "\"\"\"\n",
    "\n",
    "rf_model = ensemble.RandomForestClassifier(bootstrap=True, \n",
    "                                           criterion='gini',\n",
    "                                           max_depth=4, \n",
    "                                           max_features='auto',\n",
    "                                           min_impurity_decrease=0.001,\n",
    "                                           min_samples_leaf=30, \n",
    "                                           min_samples_split=50,\n",
    "                                           class_weight=\"balanced_subsample\", #to remove class imbalance (balanced)\n",
    "                                           n_estimators=500,\n",
    "                                           oob_score=True, \n",
    "                                           random_state=42, \n",
    "                                           verbose=0,\n",
    "                                           warm_start=False)\n",
    "\n",
    "rf_model.fit(X_train,y_train.values.ravel())\n",
    "#rf_model.fit(os_data_X,os_data_y)"
   ]
  },
  {
   "cell_type": "markdown",
   "metadata": {},
   "source": [
    "The problem with above approach is to understand which combination is the best. Should we have made a tree with `max_depth` as 4 and `min_sample_leaf` as 30 or should there have been other combination. Searching the grid for the best combination can be taken care of by `RandomizedSearchCV` method of `model_selection`"
   ]
  },
  {
   "cell_type": "markdown",
   "metadata": {},
   "source": [
    "### Model with Random Search\n",
    "Refer here to understand the details of parallel processing: https://stackoverflow.com/questions/32673579/scikit-learn-general-question-about-parallel-computing"
   ]
  },
  {
   "cell_type": "markdown",
   "metadata": {},
   "source": [
    "#### Create search space\n",
    "\n",
    "To use RandomizedSearchCV, create a parameter grid from where sample will be picked during model building:"
   ]
  },
  {
   "cell_type": "code",
   "execution_count": 30,
   "metadata": {},
   "outputs": [
    {
     "data": {
      "text/plain": [
       "{'n_estimators': [100, 120, 150, 200, 240, 400, 500],\n",
       " 'max_depth': [2, 3, 4, 5, 6, 7, 8, 9, None],\n",
       " 'max_features': ['auto', 'log2'],\n",
       " 'min_samples_split': [50, 75, 100],\n",
       " 'min_samples_leaf': [30, 35, 40],\n",
       " 'bootstrap': [True, False],\n",
       " 'class_weight': ['balanced_subsample', 'balanced']}"
      ]
     },
     "execution_count": 30,
     "metadata": {},
     "output_type": "execute_result"
    }
   ],
   "source": [
    "# Number of trees in random forest\n",
    "n_estimators = [100,120,150,200, 240, 400, 500]\n",
    "\n",
    "# Maximum number of levels in tree\n",
    "max_depth = [2,3,4,5,6,7,8,9]\n",
    "max_depth.append(None)\n",
    "\n",
    "# Number of features to consider at every split\n",
    "max_features = ['auto', 'log2']\n",
    "\n",
    "# Minimum number of samples required to split a node\n",
    "min_samples_split = [50, 75, 100]\n",
    "\n",
    "# Minimum number of samples required at each leaf node\n",
    "min_samples_leaf = [30, 35, 40]\n",
    "\n",
    "# Method of selecting samples for training each tree\n",
    "bootstrap = [True, False]\n",
    "\n",
    "# How to remove the class imbalance\n",
    "class_weight=['balanced_subsample','balanced']\n",
    "\n",
    "# Create the random grid\n",
    "random_grid = {'n_estimators': n_estimators,\n",
    "               'max_depth': max_depth,\n",
    "               'max_features': max_features,\n",
    "               'min_samples_split': min_samples_split,\n",
    "               'min_samples_leaf': min_samples_leaf,\n",
    "               'bootstrap': bootstrap,\n",
    "               'class_weight': class_weight}\n",
    "random_grid"
   ]
  },
  {
   "cell_type": "markdown",
   "metadata": {},
   "source": [
    "To report the performance on the selected KPI use `sklearn.metrics.SCORERS.keys()` to get the list of all the metrics and pass the relevant one in `RandomizedSearchCV` or `GridSearchCV`"
   ]
  },
  {
   "cell_type": "code",
   "execution_count": 31,
   "metadata": {},
   "outputs": [
    {
     "data": {
      "text/plain": [
       "dict_keys(['explained_variance', 'r2', 'max_error', 'neg_median_absolute_error', 'neg_mean_absolute_error', 'neg_mean_squared_error', 'neg_mean_squared_log_error', 'accuracy', 'roc_auc', 'balanced_accuracy', 'average_precision', 'neg_log_loss', 'brier_score_loss', 'adjusted_rand_score', 'homogeneity_score', 'completeness_score', 'v_measure_score', 'mutual_info_score', 'adjusted_mutual_info_score', 'normalized_mutual_info_score', 'fowlkes_mallows_score', 'precision', 'precision_macro', 'precision_micro', 'precision_samples', 'precision_weighted', 'recall', 'recall_macro', 'recall_micro', 'recall_samples', 'recall_weighted', 'f1', 'f1_macro', 'f1_micro', 'f1_samples', 'f1_weighted', 'jaccard', 'jaccard_macro', 'jaccard_micro', 'jaccard_samples', 'jaccard_weighted'])"
      ]
     },
     "execution_count": 31,
     "metadata": {},
     "output_type": "execute_result"
    }
   ],
   "source": [
    "from sklearn.metrics import SCORERS\n",
    "\n",
    "SCORERS.keys()"
   ]
  },
  {
   "cell_type": "markdown",
   "metadata": {},
   "source": [
    "Import RandomizedSearchCV"
   ]
  },
  {
   "cell_type": "code",
   "execution_count": 32,
   "metadata": {},
   "outputs": [],
   "source": [
    "from sklearn.model_selection import RandomizedSearchCV\n",
    "#RandomizedSearchCV?"
   ]
  },
  {
   "cell_type": "code",
   "execution_count": 33,
   "metadata": {},
   "outputs": [
    {
     "data": {
      "text/plain": [
       "RandomizedSearchCV(cv=3, error_score='raise-deprecating',\n",
       "                   estimator=RandomForestClassifier(bootstrap=True,\n",
       "                                                    class_weight=None,\n",
       "                                                    criterion='gini',\n",
       "                                                    max_depth=None,\n",
       "                                                    max_features='auto',\n",
       "                                                    max_leaf_nodes=None,\n",
       "                                                    min_impurity_decrease=0.0,\n",
       "                                                    min_impurity_split=None,\n",
       "                                                    min_samples_leaf=1,\n",
       "                                                    min_samples_split=2,\n",
       "                                                    min_weight_fraction_leaf=0.0,\n",
       "                                                    n_estimators='warn',\n",
       "                                                    n_jobs=None,\n",
       "                                                    oob_sc...\n",
       "                   param_distributions={'bootstrap': [True, False],\n",
       "                                        'class_weight': ['balanced_subsample',\n",
       "                                                         'balanced'],\n",
       "                                        'max_depth': [2, 3, 4, 5, 6, 7, 8, 9,\n",
       "                                                      None],\n",
       "                                        'max_features': ['auto', 'log2'],\n",
       "                                        'min_samples_leaf': [30, 35, 40],\n",
       "                                        'min_samples_split': [50, 75, 100],\n",
       "                                        'n_estimators': [100, 120, 150, 200,\n",
       "                                                         240, 400, 500]},\n",
       "                   pre_dispatch=2, random_state=42, refit=True,\n",
       "                   return_train_score=False, scoring='precision', verbose=2)"
      ]
     },
     "execution_count": 33,
     "metadata": {},
     "output_type": "execute_result"
    },
    {
     "name": "stdout",
     "output_type": "stream",
     "text": [
      "Fitting 3 folds for each of 100 candidates, totalling 300 fits\n"
     ]
    },
    {
     "name": "stderr",
     "output_type": "stream",
     "text": [
      "[Parallel(n_jobs=-2)]: Using backend LokyBackend with 7 concurrent workers.\n",
      "[Parallel(n_jobs=-2)]: Done  58 tasks      | elapsed:    8.3s\n",
      "[Parallel(n_jobs=-2)]: Done 300 out of 300 | elapsed:   35.9s finished\n",
      "/Users/Rahul/anaconda3/lib/python3.6/site-packages/sklearn/model_selection/_search.py:813: DeprecationWarning: The default of the `iid` parameter will change from True to False in version 0.22 and will be removed in 0.24. This will change numeric results when test-set sizes are unequal.\n",
      "  DeprecationWarning)\n"
     ]
    },
    {
     "data": {
      "text/plain": [
       "RandomizedSearchCV(cv=3, error_score='raise-deprecating',\n",
       "                   estimator=RandomForestClassifier(bootstrap=True,\n",
       "                                                    class_weight=None,\n",
       "                                                    criterion='gini',\n",
       "                                                    max_depth=None,\n",
       "                                                    max_features='auto',\n",
       "                                                    max_leaf_nodes=None,\n",
       "                                                    min_impurity_decrease=0.0,\n",
       "                                                    min_impurity_split=None,\n",
       "                                                    min_samples_leaf=1,\n",
       "                                                    min_samples_split=2,\n",
       "                                                    min_weight_fraction_leaf=0.0,\n",
       "                                                    n_estimators='warn',\n",
       "                                                    n_jobs=None,\n",
       "                                                    oob_sc...\n",
       "                   param_distributions={'bootstrap': [True, False],\n",
       "                                        'class_weight': ['balanced_subsample',\n",
       "                                                         'balanced'],\n",
       "                                        'max_depth': [2, 3, 4, 5, 6, 7, 8, 9,\n",
       "                                                      None],\n",
       "                                        'max_features': ['auto', 'log2'],\n",
       "                                        'min_samples_leaf': [30, 35, 40],\n",
       "                                        'min_samples_split': [50, 75, 100],\n",
       "                                        'n_estimators': [100, 120, 150, 200,\n",
       "                                                         240, 400, 500]},\n",
       "                   pre_dispatch=2, random_state=42, refit=True,\n",
       "                   return_train_score=False, scoring='precision', verbose=2)"
      ]
     },
     "execution_count": 33,
     "metadata": {},
     "output_type": "execute_result"
    }
   ],
   "source": [
    "# Use the random grid to search for best hyperparameters\n",
    "from sklearn.model_selection import RandomizedSearchCV\n",
    "\n",
    "rf_model = ensemble.RandomForestClassifier()\n",
    "\n",
    "# Random search of parameters, using 3 fold cross validation, \n",
    "rf_best_model = RandomizedSearchCV(estimator = rf_model, \n",
    "                               param_distributions = random_grid, scoring = \"precision\",\n",
    "                               n_iter = 100, cv = 3, verbose=2, random_state=42, n_jobs = -2, pre_dispatch =2)\n",
    "# Fit the random search model\n",
    "rf_best_model\n",
    "rf_best_model.fit(X_train, y_train.values.ravel())"
   ]
  },
  {
   "cell_type": "markdown",
   "metadata": {},
   "source": [
    "### Report the parameter\n",
    "\n",
    "The best model has the following parameter selected from the random search grid"
   ]
  },
  {
   "cell_type": "code",
   "execution_count": 34,
   "metadata": {
    "scrolled": false
   },
   "outputs": [
    {
     "data": {
      "text/plain": [
       "{'n_estimators': 200,\n",
       " 'min_samples_split': 50,\n",
       " 'min_samples_leaf': 30,\n",
       " 'max_features': 'auto',\n",
       " 'max_depth': 8,\n",
       " 'class_weight': 'balanced_subsample',\n",
       " 'bootstrap': True}"
      ]
     },
     "execution_count": 34,
     "metadata": {},
     "output_type": "execute_result"
    },
    {
     "data": {
      "text/plain": [
       "RandomForestClassifier(bootstrap=True, class_weight='balanced_subsample',\n",
       "                       criterion='gini', max_depth=8, max_features='auto',\n",
       "                       max_leaf_nodes=None, min_impurity_decrease=0.0,\n",
       "                       min_impurity_split=None, min_samples_leaf=30,\n",
       "                       min_samples_split=50, min_weight_fraction_leaf=0.0,\n",
       "                       n_estimators=200, n_jobs=None, oob_score=False,\n",
       "                       random_state=None, verbose=0, warm_start=False)"
      ]
     },
     "execution_count": 34,
     "metadata": {},
     "output_type": "execute_result"
    },
    {
     "data": {
      "text/plain": [
       "0.22969187675070027"
      ]
     },
     "execution_count": 34,
     "metadata": {},
     "output_type": "execute_result"
    }
   ],
   "source": [
    "rf_best_model.best_params_\n",
    "\n",
    "rf_best_model.best_estimator_\n",
    "\n",
    "rf_best_model.best_score_\n",
    "\n",
    "#rf__best_model.best_index_"
   ]
  },
  {
   "cell_type": "markdown",
   "metadata": {},
   "source": [
    "### Model with Grid Search\n",
    "\n",
    "Random search allows to narrow down the range for each hyperparameter. Thus we know where to concentrate the search, to fine tune the model further. \n",
    "\n",
    "`GridSearchCV`, is a method that instead of sampling randomly from a distribution, evaluates all combinations which are defined. The grid search can be called `from sklearn.model_selection import GridSearchCV`\n",
    "\n",
    "You are encouraged to fine tune the model further using Grid Search"
   ]
  },
  {
   "cell_type": "markdown",
   "metadata": {},
   "source": [
    "## Model Evaluation"
   ]
  },
  {
   "cell_type": "markdown",
   "metadata": {},
   "source": [
    "### 1. The prediction on train data.\n",
    "\n",
    "To predict the outcome on the **train set**\n",
    "> * Use **predict** function of the model object \n"
   ]
  },
  {
   "cell_type": "code",
   "execution_count": 35,
   "metadata": {
    "Rmd_chunk_options": "caretVarImp, echo=TRUE",
    "autoscroll": false,
    "scrolled": false
   },
   "outputs": [
    {
     "data": {
      "text/html": [
       "<div>\n",
       "<style scoped>\n",
       "    .dataframe tbody tr th:only-of-type {\n",
       "        vertical-align: middle;\n",
       "    }\n",
       "\n",
       "    .dataframe tbody tr th {\n",
       "        vertical-align: top;\n",
       "    }\n",
       "\n",
       "    .dataframe thead th {\n",
       "        text-align: right;\n",
       "    }\n",
       "</style>\n",
       "<table border=\"1\" class=\"dataframe\">\n",
       "  <thead>\n",
       "    <tr style=\"text-align: right;\">\n",
       "      <th></th>\n",
       "      <th>0</th>\n",
       "    </tr>\n",
       "  </thead>\n",
       "  <tbody>\n",
       "    <tr>\n",
       "      <th>0</th>\n",
       "      <td>0</td>\n",
       "    </tr>\n",
       "    <tr>\n",
       "      <th>1</th>\n",
       "      <td>0</td>\n",
       "    </tr>\n",
       "    <tr>\n",
       "      <th>2</th>\n",
       "      <td>0</td>\n",
       "    </tr>\n",
       "    <tr>\n",
       "      <th>3</th>\n",
       "      <td>0</td>\n",
       "    </tr>\n",
       "    <tr>\n",
       "      <th>4</th>\n",
       "      <td>0</td>\n",
       "    </tr>\n",
       "  </tbody>\n",
       "</table>\n",
       "</div>"
      ],
      "text/plain": [
       "   0\n",
       "0  0\n",
       "1  0\n",
       "2  0\n",
       "3  0\n",
       "4  0"
      ]
     },
     "execution_count": 35,
     "metadata": {},
     "output_type": "execute_result"
    },
    {
     "data": {
      "text/html": [
       "<div>\n",
       "<style scoped>\n",
       "    .dataframe tbody tr th:only-of-type {\n",
       "        vertical-align: middle;\n",
       "    }\n",
       "\n",
       "    .dataframe tbody tr th {\n",
       "        vertical-align: top;\n",
       "    }\n",
       "\n",
       "    .dataframe thead th {\n",
       "        text-align: right;\n",
       "    }\n",
       "</style>\n",
       "<table border=\"1\" class=\"dataframe\">\n",
       "  <thead>\n",
       "    <tr style=\"text-align: right;\">\n",
       "      <th></th>\n",
       "      <th>0</th>\n",
       "      <th>1</th>\n",
       "    </tr>\n",
       "  </thead>\n",
       "  <tbody>\n",
       "    <tr>\n",
       "      <th>0</th>\n",
       "      <td>0.514342</td>\n",
       "      <td>0.485658</td>\n",
       "    </tr>\n",
       "    <tr>\n",
       "      <th>1</th>\n",
       "      <td>0.913632</td>\n",
       "      <td>0.086368</td>\n",
       "    </tr>\n",
       "    <tr>\n",
       "      <th>2</th>\n",
       "      <td>0.603899</td>\n",
       "      <td>0.396101</td>\n",
       "    </tr>\n",
       "    <tr>\n",
       "      <th>3</th>\n",
       "      <td>0.804298</td>\n",
       "      <td>0.195702</td>\n",
       "    </tr>\n",
       "    <tr>\n",
       "      <th>4</th>\n",
       "      <td>0.724533</td>\n",
       "      <td>0.275467</td>\n",
       "    </tr>\n",
       "  </tbody>\n",
       "</table>\n",
       "</div>"
      ],
      "text/plain": [
       "          0         1\n",
       "0  0.514342  0.485658\n",
       "1  0.913632  0.086368\n",
       "2  0.603899  0.396101\n",
       "3  0.804298  0.195702\n",
       "4  0.724533  0.275467"
      ]
     },
     "execution_count": 35,
     "metadata": {},
     "output_type": "execute_result"
    }
   ],
   "source": [
    "predict_class_train_df = pd.DataFrame(rf_best_model.predict(X_train))\n",
    "predict_class_train_df.head()\n",
    "\n",
    "predict_porb_train_df = pd.DataFrame(rf_best_model.predict_proba(X_train))\n",
    "predict_porb_train_df.iloc[:,:].head()"
   ]
  },
  {
   "cell_type": "markdown",
   "metadata": {},
   "source": [
    "The above output clearly shows that the predcited class is the one for which the calculated probability is more compared to the calculated probability of the other class.\n",
    "\n",
    "### 2. The prediction on test data.\n",
    "\n",
    "The prediction can be carried out by **defining functions** as well. Below is one such instance wherein a function is defined and is used for prediction"
   ]
  },
  {
   "cell_type": "code",
   "execution_count": 36,
   "metadata": {
    "Rmd_chunk_options": "caretPrediction, echo=TRUE",
    "autoscroll": false
   },
   "outputs": [],
   "source": [
    "def get_predictions ( test_class, model, test_data ):\n",
    "    predicted_df = pd.DataFrame(model.predict_proba(test_data))\n",
    "    y_pred_df = pd.concat([test_class.reset_index(drop=True), predicted_df.iloc[:,1:]], axis =1)\n",
    "    return y_pred_df"
   ]
  },
  {
   "cell_type": "markdown",
   "metadata": {},
   "source": [
    "Giving label to the Y column of the test set by using the dictionary data type in python. This is being done for the model which was built using dummy variable coding. It will be used to generate confusion matrix at a later time"
   ]
  },
  {
   "cell_type": "code",
   "execution_count": 37,
   "metadata": {},
   "outputs": [
    {
     "data": {
      "text/plain": [
       "0    365\n",
       "1      7\n",
       "Name: Yes, dtype: int64"
      ]
     },
     "execution_count": 37,
     "metadata": {},
     "output_type": "execute_result"
    }
   ],
   "source": [
    "y_test.Yes.value_counts()"
   ]
  },
  {
   "cell_type": "code",
   "execution_count": 38,
   "metadata": {
    "scrolled": true
   },
   "outputs": [],
   "source": [
    "test_series = y_test\n",
    "train_series = y_train\n",
    "\n",
    "status_dict = {1:\"Yes\", 0:\"No\"}\n",
    "\n",
    "y_test_df = test_series.replace(dict(Yes=status_dict))\n",
    "y_test_df.rename({'Yes': 'status'}, axis='columns', inplace=True )\n",
    "\n",
    "y_train_df = train_series.replace(dict(Yes=status_dict))\n",
    "\n",
    "y_train_df.rename({'Yes': 'status'}, axis='columns', inplace=True )\n"
   ]
  },
  {
   "cell_type": "code",
   "execution_count": 39,
   "metadata": {},
   "outputs": [
    {
     "data": {
      "text/plain": [
       "No     365\n",
       "Yes      7\n",
       "Name: status, dtype: int64"
      ]
     },
     "execution_count": 39,
     "metadata": {},
     "output_type": "execute_result"
    }
   ],
   "source": [
    "y_test_df.status.value_counts()"
   ]
  },
  {
   "cell_type": "code",
   "execution_count": 40,
   "metadata": {
    "scrolled": true
   },
   "outputs": [
    {
     "data": {
      "text/html": [
       "<div>\n",
       "<style scoped>\n",
       "    .dataframe tbody tr th:only-of-type {\n",
       "        vertical-align: middle;\n",
       "    }\n",
       "\n",
       "    .dataframe tbody tr th {\n",
       "        vertical-align: top;\n",
       "    }\n",
       "\n",
       "    .dataframe thead th {\n",
       "        text-align: right;\n",
       "    }\n",
       "</style>\n",
       "<table border=\"1\" class=\"dataframe\">\n",
       "  <thead>\n",
       "    <tr style=\"text-align: right;\">\n",
       "      <th></th>\n",
       "      <th>status</th>\n",
       "      <th>predicted_prob</th>\n",
       "    </tr>\n",
       "  </thead>\n",
       "  <tbody>\n",
       "    <tr>\n",
       "      <th>0</th>\n",
       "      <td>No</td>\n",
       "      <td>0.420246</td>\n",
       "    </tr>\n",
       "    <tr>\n",
       "      <th>1</th>\n",
       "      <td>No</td>\n",
       "      <td>0.076516</td>\n",
       "    </tr>\n",
       "    <tr>\n",
       "      <th>2</th>\n",
       "      <td>No</td>\n",
       "      <td>0.046352</td>\n",
       "    </tr>\n",
       "    <tr>\n",
       "      <th>3</th>\n",
       "      <td>No</td>\n",
       "      <td>0.036160</td>\n",
       "    </tr>\n",
       "    <tr>\n",
       "      <th>4</th>\n",
       "      <td>No</td>\n",
       "      <td>0.178406</td>\n",
       "    </tr>\n",
       "  </tbody>\n",
       "</table>\n",
       "</div>"
      ],
      "text/plain": [
       "  status  predicted_prob\n",
       "0     No        0.420246\n",
       "1     No        0.076516\n",
       "2     No        0.046352\n",
       "3     No        0.036160\n",
       "4     No        0.178406"
      ]
     },
     "execution_count": 40,
     "metadata": {},
     "output_type": "execute_result"
    }
   ],
   "source": [
    "predict_test_df = pd.DataFrame(get_predictions(y_test_df.status, rf_best_model, X_test))\n",
    "predict_test_df.rename(columns = {1:'predicted_prob'}, inplace=True)\n",
    "predict_test_df.head()"
   ]
  },
  {
   "cell_type": "code",
   "execution_count": 41,
   "metadata": {},
   "outputs": [
    {
     "data": {
      "text/html": [
       "<div>\n",
       "<style scoped>\n",
       "    .dataframe tbody tr th:only-of-type {\n",
       "        vertical-align: middle;\n",
       "    }\n",
       "\n",
       "    .dataframe tbody tr th {\n",
       "        vertical-align: top;\n",
       "    }\n",
       "\n",
       "    .dataframe thead th {\n",
       "        text-align: right;\n",
       "    }\n",
       "</style>\n",
       "<table border=\"1\" class=\"dataframe\">\n",
       "  <thead>\n",
       "    <tr style=\"text-align: right;\">\n",
       "      <th></th>\n",
       "      <th>status</th>\n",
       "      <th>predicted_prob</th>\n",
       "      <th>predicted</th>\n",
       "    </tr>\n",
       "  </thead>\n",
       "  <tbody>\n",
       "    <tr>\n",
       "      <th>0</th>\n",
       "      <td>No</td>\n",
       "      <td>0.420246</td>\n",
       "      <td>No</td>\n",
       "    </tr>\n",
       "    <tr>\n",
       "      <th>1</th>\n",
       "      <td>No</td>\n",
       "      <td>0.076516</td>\n",
       "      <td>No</td>\n",
       "    </tr>\n",
       "    <tr>\n",
       "      <th>2</th>\n",
       "      <td>No</td>\n",
       "      <td>0.046352</td>\n",
       "      <td>No</td>\n",
       "    </tr>\n",
       "    <tr>\n",
       "      <th>3</th>\n",
       "      <td>No</td>\n",
       "      <td>0.036160</td>\n",
       "      <td>No</td>\n",
       "    </tr>\n",
       "    <tr>\n",
       "      <th>4</th>\n",
       "      <td>No</td>\n",
       "      <td>0.178406</td>\n",
       "      <td>No</td>\n",
       "    </tr>\n",
       "    <tr>\n",
       "      <th>5</th>\n",
       "      <td>No</td>\n",
       "      <td>0.304414</td>\n",
       "      <td>No</td>\n",
       "    </tr>\n",
       "    <tr>\n",
       "      <th>6</th>\n",
       "      <td>No</td>\n",
       "      <td>0.679438</td>\n",
       "      <td>Yes</td>\n",
       "    </tr>\n",
       "    <tr>\n",
       "      <th>7</th>\n",
       "      <td>No</td>\n",
       "      <td>0.252460</td>\n",
       "      <td>No</td>\n",
       "    </tr>\n",
       "    <tr>\n",
       "      <th>8</th>\n",
       "      <td>No</td>\n",
       "      <td>0.588914</td>\n",
       "      <td>Yes</td>\n",
       "    </tr>\n",
       "    <tr>\n",
       "      <th>9</th>\n",
       "      <td>No</td>\n",
       "      <td>0.311524</td>\n",
       "      <td>No</td>\n",
       "    </tr>\n",
       "  </tbody>\n",
       "</table>\n",
       "</div>"
      ],
      "text/plain": [
       "  status  predicted_prob predicted\n",
       "0     No        0.420246        No\n",
       "1     No        0.076516        No\n",
       "2     No        0.046352        No\n",
       "3     No        0.036160        No\n",
       "4     No        0.178406        No\n",
       "5     No        0.304414        No\n",
       "6     No        0.679438       Yes\n",
       "7     No        0.252460        No\n",
       "8     No        0.588914       Yes\n",
       "9     No        0.311524        No"
      ]
     },
     "execution_count": 41,
     "metadata": {},
     "output_type": "execute_result"
    }
   ],
   "source": [
    "predict_test_df['predicted'] = predict_test_df.predicted_prob.map(lambda x: 'Yes' if x > 0.5 else 'No')\n",
    "predict_test_df[0:10]"
   ]
  },
  {
   "cell_type": "markdown",
   "metadata": {},
   "source": [
    "### 3. Confusion Matrix\n",
    "\n",
    "We will built classification matrix using the **metrics** method from **sklearn** package. We will also write a custom function to build a classification matrix and use it for reporting the performance measures.\n",
    "\n",
    "To understand the concept of micro average and macro average:\n",
    "\n",
    "https://datascience.stackexchange.com/questions/15989/micro-average-vs-macro-average-performance-in-a-multiclass-classification-settin\n",
    "\n",
    "#### 3a. Confusion Matrix using sklearn"
   ]
  },
  {
   "cell_type": "code",
   "execution_count": 42,
   "metadata": {},
   "outputs": [],
   "source": [
    "from sklearn import metrics\n",
    "from sklearn.metrics import confusion_matrix\n",
    "from sklearn.metrics import classification_report"
   ]
  },
  {
   "cell_type": "code",
   "execution_count": 43,
   "metadata": {
    "scrolled": true
   },
   "outputs": [
    {
     "name": "stdout",
     "output_type": "stream",
     "text": [
      "The model with dummy variable coding output: \n"
     ]
    },
    {
     "data": {
      "text/plain": [
       "array([[342,  23],\n",
       "       [  3,   4]])"
      ]
     },
     "execution_count": 43,
     "metadata": {},
     "output_type": "execute_result"
    },
    {
     "name": "stdout",
     "output_type": "stream",
     "text": [
      "              precision    recall  f1-score   support\n",
      "\n",
      "          No       0.99      0.94      0.96       365\n",
      "         Yes       0.15      0.57      0.24         7\n",
      "\n",
      "    accuracy                           0.93       372\n",
      "   macro avg       0.57      0.75      0.60       372\n",
      "weighted avg       0.98      0.93      0.95       372\n",
      "\n"
     ]
    }
   ],
   "source": [
    "print(\"The model with dummy variable coding output: \")\n",
    "confusion_matrix(predict_test_df.status, predict_test_df.predicted)\n",
    "rf_report = (classification_report(predict_test_df.status, predict_test_df.predicted))\n",
    "print(rf_report)\n"
   ]
  },
  {
   "cell_type": "markdown",
   "metadata": {},
   "source": [
    "#### 3b Confusion Matrix using generic function"
   ]
  },
  {
   "cell_type": "code",
   "execution_count": 44,
   "metadata": {},
   "outputs": [],
   "source": [
    "def draw_cm( actual, predicted ):\n",
    "    plt.figure(figsize=(9,9))\n",
    "    cm = metrics.confusion_matrix( actual, predicted )\n",
    "    sn.heatmap(cm, annot=True,  fmt='.0f', xticklabels = [\"No\", \"Yes\"] , \n",
    "               yticklabels = [\"No\", \"Yes\"],cmap = 'Blues_r')\n",
    "    plt.ylabel('Actual')\n",
    "    plt.xlabel('Predicted')\n",
    "    plt.title('Classification Matrix Plot', size = 15);\n",
    "    plt.show()"
   ]
  },
  {
   "cell_type": "markdown",
   "metadata": {},
   "source": [
    "The classification matrix plot as reported with dummy variable coding is:"
   ]
  },
  {
   "cell_type": "code",
   "execution_count": 45,
   "metadata": {},
   "outputs": [
    {
     "data": {
      "image/png": "[encoded data removed]",
      "text/plain": [
       "<Figure size 648x648 with 2 Axes>"
      ]
     },
     "metadata": {
      "needs_background": "light"
     },
     "output_type": "display_data"
    }
   ],
   "source": [
    "draw_cm( predict_test_df.status, predict_test_df.predicted )"
   ]
  },
  {
   "cell_type": "markdown",
   "metadata": {},
   "source": [
    "### 4. Performance Measure on the test set\n"
   ]
  },
  {
   "cell_type": "code",
   "execution_count": 46,
   "metadata": {},
   "outputs": [],
   "source": [
    "def measure_performance (clasf_matrix):\n",
    "    measure = pd.DataFrame({\n",
    "                        'specificity': [round(clasf_matrix[0,0]/(clasf_matrix[0,0]+clasf_matrix[0,1]),2)], \n",
    "                        'sensitivity': [round(clasf_matrix[1,1]/(clasf_matrix[1,0]+clasf_matrix[1,1]),2)],\n",
    "                        'recall': [round(clasf_matrix[1,1]/(clasf_matrix[1,0]+clasf_matrix[1,1]),2)],\n",
    "                        'precision': [round(clasf_matrix[1,1]/(clasf_matrix[0,1]+clasf_matrix[1,1]),2)],\n",
    "                        'overall_acc': [round((clasf_matrix[0,0]+clasf_matrix[1,1])/\n",
    "                                              (clasf_matrix[0,0]+clasf_matrix[0,1]+clasf_matrix[1,0]+clasf_matrix[1,1]),2)]\n",
    "                       })\n",
    "    return measure"
   ]
  },
  {
   "cell_type": "code",
   "execution_count": 47,
   "metadata": {},
   "outputs": [
    {
     "data": {
      "text/html": [
       "<div>\n",
       "<style scoped>\n",
       "    .dataframe tbody tr th:only-of-type {\n",
       "        vertical-align: middle;\n",
       "    }\n",
       "\n",
       "    .dataframe tbody tr th {\n",
       "        vertical-align: top;\n",
       "    }\n",
       "\n",
       "    .dataframe thead th {\n",
       "        text-align: right;\n",
       "    }\n",
       "</style>\n",
       "<table border=\"1\" class=\"dataframe\">\n",
       "  <thead>\n",
       "    <tr style=\"text-align: right;\">\n",
       "      <th></th>\n",
       "      <th>specificity</th>\n",
       "      <th>sensitivity</th>\n",
       "      <th>recall</th>\n",
       "      <th>precision</th>\n",
       "      <th>overall_acc</th>\n",
       "    </tr>\n",
       "  </thead>\n",
       "  <tbody>\n",
       "    <tr>\n",
       "      <th>0</th>\n",
       "      <td>0.94</td>\n",
       "      <td>0.57</td>\n",
       "      <td>0.57</td>\n",
       "      <td>0.15</td>\n",
       "      <td>0.93</td>\n",
       "    </tr>\n",
       "  </tbody>\n",
       "</table>\n",
       "</div>"
      ],
      "text/plain": [
       "   specificity  sensitivity  recall  precision  overall_acc\n",
       "0         0.94         0.57    0.57       0.15         0.93"
      ]
     },
     "execution_count": 47,
     "metadata": {},
     "output_type": "execute_result"
    },
    {
     "name": "stdout",
     "output_type": "stream",
     "text": [
      "Total Accuracy sklearn:  0.93\n"
     ]
    }
   ],
   "source": [
    "cm = metrics.confusion_matrix(predict_test_df.status, predict_test_df.predicted)\n",
    "\n",
    "lg_reg_metrics_df = pd.DataFrame(measure_performance(cm))\n",
    "lg_reg_metrics_df\n",
    "\n",
    "print( 'Total Accuracy sklearn: ',np.round( metrics.accuracy_score( predict_test_df.status, predict_test_df.predicted ), 2 ))\n",
    "\n"
   ]
  },
  {
   "cell_type": "markdown",
   "metadata": {},
   "source": [
    "\n",
    "#### End of Document\n",
    "\n",
    "***\n",
    "***\n"
   ]
  }
 ],
 "metadata": {
  "Rmd_header": {
   "author": "Kumar Rahul",
   "date": "9 September 2016",
   "output": "word_document",
   "title": "Logistic Regression using Caret Package"
  },
  "kernelspec": {
   "display_name": "Python 3",
   "language": "python",
   "name": "python3"
  },
  "language_info": {
   "codemirror_mode": {
    "name": "ipython",
    "version": 3
   },
   "file_extension": ".py",
   "mimetype": "text/x-python",
   "name": "python",
   "nbconvert_exporter": "python",
   "pygments_lexer": "ipython3",
   "version": "3.6.8"
  }
 },
 "nbformat": 4,
 "nbformat_minor": 1
}
